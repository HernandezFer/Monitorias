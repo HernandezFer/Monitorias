{
  "nbformat": 4,
  "nbformat_minor": 0,
  "metadata": {
    "colab": {
      "name": "Ejercicios Repaso.ipynb",
      "provenance": [],
      "authorship_tag": "ABX9TyNkg5Yp1Abs7aWCeSyuA9M3",
      "include_colab_link": true
    },
    "kernelspec": {
      "name": "python3",
      "display_name": "Python 3"
    },
    "language_info": {
      "name": "python"
    }
  },
  "cells": [
    {
      "cell_type": "markdown",
      "metadata": {
        "id": "view-in-github",
        "colab_type": "text"
      },
      "source": [
        "<a href=\"https://colab.research.google.com/github/HernandezFer/Monitorias/blob/main/Ejercicios_Repaso.ipynb\" target=\"_parent\"><img src=\"https://colab.research.google.com/assets/colab-badge.svg\" alt=\"Open In Colab\"/></a>"
      ]
    },
    {
      "cell_type": "markdown",
      "metadata": {
        "id": "OFsaUuBhdWw5"
      },
      "source": [
        "**Ejercicios repaso**\n",
        "\n",
        "---\n",
        "\n",
        "\n",
        "1. Calcular 1/2 + 1/3 en aritmética racional.\n",
        "2. Calcular la forma expandida de (x+y)^6.\n",
        "3. Simplificar la expresión trigonométrica sin(x) / cos(x)\n",
        "4. Calcular la derivada de log(x) para x.\n",
        "5. Cree una lista vacía. Agregue los siguientes números con una línea de código: 1,56,43,4,56,7,8. Organice la lista de menor a mayor. Elimine el último elemento. Elimine el primer elemento. Utilice una función predeterminada para encontrar el valor máximo. Agregue el número 4. Organice la lista de mayor a menor. Acceda al elemento de la lista en la última posición. Imprima \"trabajo terminado\".\n",
        "6.  Cree una lista utilizando la función range que vaya desde el 0 hasta el 5. Utilice un bucle para imprimir todos los elementos. Utilice un bucle para imprimir todos los elementos elevados al cuadrado. Utilice un bucle para imprimir todos los elementos elevados al cubo.\n",
        "7. Cree un diccionario con 5 llaves. Para cada llave incluya cinco valores en una lista. Utilice un bucle anidado para imprimir cada uno de los elementos contenidos en las listas.\n",
        "\n",
        "\n",
        "\n",
        "\n",
        "\n",
        "\n",
        "\n",
        "\n",
        "\n"
      ]
    },
    {
      "cell_type": "code",
      "metadata": {
        "id": "_qA_NtYsdVor"
      },
      "source": [
        ""
      ],
      "execution_count": null,
      "outputs": []
    }
  ]
}