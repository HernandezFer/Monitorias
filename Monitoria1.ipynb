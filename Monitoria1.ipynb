{
  "nbformat": 4,
  "nbformat_minor": 0,
  "metadata": {
    "colab": {
      "name": "Monitoria1.ipynb",
      "provenance": [],
      "authorship_tag": "ABX9TyN2OqEKuSfSrPfWB8mkePlR",
      "include_colab_link": true
    },
    "kernelspec": {
      "name": "python3",
      "display_name": "Python 3"
    }
  },
  "cells": [
    {
      "cell_type": "markdown",
      "metadata": {
        "id": "view-in-github",
        "colab_type": "text"
      },
      "source": [
        "<a href=\"https://colab.research.google.com/github/HernandezFer/Monitorias/blob/main/Monitoria1.ipynb\" target=\"_parent\"><img src=\"https://colab.research.google.com/assets/colab-badge.svg\" alt=\"Open In Colab\"/></a>"
      ]
    },
    {
      "cell_type": "markdown",
      "metadata": {
        "id": "V6YYWxcVJE0C"
      },
      "source": [
        "Python\n",
        "\n",
        "Es un lenguaje de programación orientado a objetos, el cual fue lanzado en 1991 por Van Rossum. Es uno de los lenguajes de programación más populares del mundo.\n"
      ]
    },
    {
      "cell_type": "markdown",
      "metadata": {
        "id": "AcCEIFrFJSJ9"
      },
      "source": [
        "#operadores aritmeticos"
      ]
    },
    {
      "cell_type": "markdown",
      "metadata": {
        "id": "Al9uWZIV8ETs"
      },
      "source": [
        "Reglas de orden de operadores\n",
        "\n",
        "1. Primero se evaluan las expresiones con parentesis. si hay parenetsis anidados, se resuelven de adentro hacia afuera\n",
        "2. operaciones exponenciales\n",
        "3. multiplicacion\n",
        "4. sumas y restas\n"
      ]
    },
    {
      "cell_type": "code",
      "metadata": {
        "colab": {
          "base_uri": "https://localhost:8080/"
        },
        "id": "MFItqETHJK8H",
        "outputId": "3d94b847-58c3-4c25-fd72-73f9782f1d09"
      },
      "source": [
        "2+2 #suma"
      ],
      "execution_count": null,
      "outputs": [
        {
          "output_type": "execute_result",
          "data": {
            "text/plain": [
              "4"
            ]
          },
          "metadata": {
            "tags": []
          },
          "execution_count": 2
        }
      ]
    },
    {
      "cell_type": "code",
      "metadata": {
        "colab": {
          "base_uri": "https://localhost:8080/"
        },
        "id": "9Hia0l1WJPLQ",
        "outputId": "356109a0-4bbb-4f3f-f7e3-ccd68b890059"
      },
      "source": [
        "3-1 #resta"
      ],
      "execution_count": null,
      "outputs": [
        {
          "output_type": "execute_result",
          "data": {
            "text/plain": [
              "2"
            ]
          },
          "metadata": {
            "tags": []
          },
          "execution_count": 3
        }
      ]
    },
    {
      "cell_type": "code",
      "metadata": {
        "colab": {
          "base_uri": "https://localhost:8080/"
        },
        "id": "2OPqUeEOJct2",
        "outputId": "4d10a364-3c7d-4e0e-ae7c-6e223a908541"
      },
      "source": [
        "\n",
        "2*2 #multiplicación"
      ],
      "execution_count": null,
      "outputs": [
        {
          "output_type": "execute_result",
          "data": {
            "text/plain": [
              "4"
            ]
          },
          "metadata": {
            "tags": []
          },
          "execution_count": 4
        }
      ]
    },
    {
      "cell_type": "code",
      "metadata": {
        "colab": {
          "base_uri": "https://localhost:8080/"
        },
        "id": "9-Wtgyb_Je1f",
        "outputId": "76fe18f0-adf8-432d-aebb-88f7c518812f"
      },
      "source": [
        "5/2 #división"
      ],
      "execution_count": null,
      "outputs": [
        {
          "output_type": "execute_result",
          "data": {
            "text/plain": [
              "2.5"
            ]
          },
          "metadata": {
            "tags": []
          },
          "execution_count": 5
        }
      ]
    },
    {
      "cell_type": "code",
      "metadata": {
        "colab": {
          "base_uri": "https://localhost:8080/"
        },
        "id": "HzbMidJfJg0m",
        "outputId": "0dbac7a8-430f-4228-c927-40588a4e7c8b"
      },
      "source": [
        "2**2 #potencia "
      ],
      "execution_count": null,
      "outputs": [
        {
          "output_type": "execute_result",
          "data": {
            "text/plain": [
              "4"
            ]
          },
          "metadata": {
            "tags": []
          },
          "execution_count": 6
        }
      ]
    },
    {
      "cell_type": "code",
      "metadata": {
        "colab": {
          "base_uri": "https://localhost:8080/"
        },
        "id": "nRoxQW8nJive",
        "outputId": "8fb02bde-c261-4228-b691-055c9f684852"
      },
      "source": [
        "10%2 #residuo ,módulo Par-Impar"
      ],
      "execution_count": null,
      "outputs": [
        {
          "output_type": "execute_result",
          "data": {
            "text/plain": [
              "0"
            ]
          },
          "metadata": {},
          "execution_count": 1
        }
      ]
    },
    {
      "cell_type": "code",
      "metadata": {
        "colab": {
          "base_uri": "https://localhost:8080/"
        },
        "id": "ki-d5H8kJlTW",
        "outputId": "ae09f295-2aac-4790-c9ab-3e87dfbd4a01"
      },
      "source": [
        "10//3 #división entre enteros, lo redonde al menor valor"
      ],
      "execution_count": null,
      "outputs": [
        {
          "output_type": "execute_result",
          "data": {
            "text/plain": [
              "3"
            ]
          },
          "metadata": {
            "tags": []
          },
          "execution_count": 8
        }
      ]
    },
    {
      "cell_type": "markdown",
      "metadata": {
        "id": "i-DC_w7BJrYR"
      },
      "source": [
        "\n",
        "\n",
        "Operadores en comparacion"
      ]
    },
    {
      "cell_type": "code",
      "metadata": {
        "colab": {
          "base_uri": "https://localhost:8080/"
        },
        "id": "p0DsOMczJnXN",
        "outputId": "ca5b2868-e760-4912-9d49-6cc31b13d162"
      },
      "source": [
        "5>4 "
      ],
      "execution_count": null,
      "outputs": [
        {
          "output_type": "execute_result",
          "data": {
            "text/plain": [
              "True"
            ]
          },
          "metadata": {
            "tags": []
          },
          "execution_count": 6
        }
      ]
    },
    {
      "cell_type": "code",
      "metadata": {
        "colab": {
          "base_uri": "https://localhost:8080/"
        },
        "id": "yERxX7hJJwM2",
        "outputId": "936d0fd0-9d26-403d-8205-ca3e6b180de7"
      },
      "source": [
        "4>5 #mayor que"
      ],
      "execution_count": null,
      "outputs": [
        {
          "output_type": "execute_result",
          "data": {
            "text/plain": [
              "False"
            ]
          },
          "metadata": {
            "tags": []
          },
          "execution_count": 10
        }
      ]
    },
    {
      "cell_type": "code",
      "metadata": {
        "colab": {
          "base_uri": "https://localhost:8080/"
        },
        "id": "1dPM5DWEJyTp",
        "outputId": "f924cc2d-72c8-4436-9f8c-354a922f0363"
      },
      "source": [
        "4<=5 #menor o igual"
      ],
      "execution_count": null,
      "outputs": [
        {
          "output_type": "execute_result",
          "data": {
            "text/plain": [
              "True"
            ]
          },
          "metadata": {
            "tags": []
          },
          "execution_count": 11
        }
      ]
    },
    {
      "cell_type": "code",
      "metadata": {
        "colab": {
          "base_uri": "https://localhost:8080/"
        },
        "id": "vkl1Ue7zJ0U9",
        "outputId": "ab2f9588-a0fd-492c-f33c-f4968bbfa38b"
      },
      "source": [
        "4>=5 #mayor o igual\n"
      ],
      "execution_count": null,
      "outputs": [
        {
          "output_type": "execute_result",
          "data": {
            "text/plain": [
              "False"
            ]
          },
          "metadata": {
            "tags": []
          },
          "execution_count": 12
        }
      ]
    },
    {
      "cell_type": "code",
      "metadata": {
        "colab": {
          "base_uri": "https://localhost:8080/"
        },
        "id": "_w0dlQR3J2rd",
        "outputId": "d2e9623d-be22-4135-deee-1ebe7d629c91"
      },
      "source": [
        "4==5 #igual a"
      ],
      "execution_count": null,
      "outputs": [
        {
          "output_type": "execute_result",
          "data": {
            "text/plain": [
              "False"
            ]
          },
          "metadata": {
            "tags": []
          },
          "execution_count": 13
        }
      ]
    },
    {
      "cell_type": "code",
      "metadata": {
        "colab": {
          "base_uri": "https://localhost:8080/"
        },
        "id": "JG9u33q61fYh",
        "outputId": "88afca18-bafa-4089-d805-fb13e9d21f9b"
      },
      "source": [
        "10/2"
      ],
      "execution_count": null,
      "outputs": [
        {
          "output_type": "execute_result",
          "data": {
            "text/plain": [
              "5.0"
            ]
          },
          "metadata": {
            "tags": []
          },
          "execution_count": 3
        }
      ]
    },
    {
      "cell_type": "code",
      "metadata": {
        "colab": {
          "base_uri": "https://localhost:8080/"
        },
        "id": "5E5FfBtrJ5Ut",
        "outputId": "99f0f1cb-391a-4d06-c5cc-f9c349b8f0db"
      },
      "source": [
        "\n",
        "4!=5 #diferente de"
      ],
      "execution_count": null,
      "outputs": [
        {
          "output_type": "execute_result",
          "data": {
            "text/plain": [
              "True"
            ]
          },
          "metadata": {
            "tags": []
          },
          "execution_count": 14
        }
      ]
    },
    {
      "cell_type": "markdown",
      "metadata": {
        "id": "1-LPK8rtJ_mX"
      },
      "source": [
        "Operadores logicos -Booleanos\n",
        "\n",
        "and or not\n",
        "and (y): todas deben ser verdaderas para que la afirmación sea verdadera\n",
        "\n",
        "or (o): al menos una debe ser verdadera para que la afirmación sea verdadera\n",
        "\n",
        "not (no): niega el valor de verdad"
      ]
    },
    {
      "cell_type": "code",
      "metadata": {
        "colab": {
          "base_uri": "https://localhost:8080/"
        },
        "id": "sl_5mVdPJ7Se",
        "outputId": "aad5eba5-7228-4634-d95b-aa62aeda11bb"
      },
      "source": [
        "4<5 and 5>6"
      ],
      "execution_count": null,
      "outputs": [
        {
          "output_type": "execute_result",
          "data": {
            "text/plain": [
              "False"
            ]
          },
          "metadata": {
            "tags": []
          },
          "execution_count": 15
        }
      ]
    },
    {
      "cell_type": "code",
      "metadata": {
        "colab": {
          "base_uri": "https://localhost:8080/"
        },
        "id": "I4Z-eXm3KH7l",
        "outputId": "b8764a13-8c9e-4598-a5c4-a10fb9a72e26"
      },
      "source": [
        "4<5 and 5<6"
      ],
      "execution_count": null,
      "outputs": [
        {
          "output_type": "execute_result",
          "data": {
            "text/plain": [
              "True"
            ]
          },
          "metadata": {
            "tags": []
          },
          "execution_count": 16
        }
      ]
    },
    {
      "cell_type": "code",
      "metadata": {
        "colab": {
          "base_uri": "https://localhost:8080/"
        },
        "id": "-F54h1s8KJht",
        "outputId": "47c8524b-0b71-462d-873d-88e1f4703ae8"
      },
      "source": [
        "4<5 or 5>6"
      ],
      "execution_count": null,
      "outputs": [
        {
          "output_type": "execute_result",
          "data": {
            "text/plain": [
              "True"
            ]
          },
          "metadata": {
            "tags": []
          },
          "execution_count": 17
        }
      ]
    },
    {
      "cell_type": "code",
      "metadata": {
        "colab": {
          "base_uri": "https://localhost:8080/"
        },
        "id": "KJfE0OeSKLU9",
        "outputId": "87ae3d34-a224-4e86-f1f7-0ec817e78f9a"
      },
      "source": [
        "4>5 or 5>6"
      ],
      "execution_count": null,
      "outputs": [
        {
          "output_type": "execute_result",
          "data": {
            "text/plain": [
              "False"
            ]
          },
          "metadata": {
            "tags": []
          },
          "execution_count": 18
        }
      ]
    },
    {
      "cell_type": "code",
      "metadata": {
        "colab": {
          "base_uri": "https://localhost:8080/"
        },
        "id": "HIQdh3lWKNDl",
        "outputId": "f998d56b-6dd1-47ae-973b-c311b515c3e0"
      },
      "source": [
        "not 4<5"
      ],
      "execution_count": null,
      "outputs": [
        {
          "output_type": "execute_result",
          "data": {
            "text/plain": [
              "False"
            ]
          },
          "metadata": {
            "tags": []
          },
          "execution_count": 19
        }
      ]
    },
    {
      "cell_type": "markdown",
      "metadata": {
        "id": "zgJrnSBIKRk-"
      },
      "source": [
        "Tipos de datos \n",
        "\n",
        "ingresos: numero; float\n",
        "\n",
        "edad: numero; int\n",
        "\n",
        "estrato: numero; int\n",
        "\n",
        "trabajo: binario; bool\n",
        "\n",
        "nivel_formacion: texto; str\n",
        "\n",
        "años_escolaridad: numero; int\n",
        "\n",
        "regimen_salud: texto; str"
      ]
    },
    {
      "cell_type": "code",
      "metadata": {
        "colab": {
          "base_uri": "https://localhost:8080/"
        },
        "id": "8rvgHmh3KPEN",
        "outputId": "66447e3b-a0ea-4b4e-96ff-514d2acbc08d"
      },
      "source": [
        "type(4) # entero"
      ],
      "execution_count": null,
      "outputs": [
        {
          "output_type": "execute_result",
          "data": {
            "text/plain": [
              "int"
            ]
          },
          "metadata": {
            "tags": []
          },
          "execution_count": 20
        }
      ]
    },
    {
      "cell_type": "code",
      "metadata": {
        "colab": {
          "base_uri": "https://localhost:8080/"
        },
        "id": "x8lGaqrTKVrN",
        "outputId": "bd0764a7-bc7d-48af-c290-22a8fa95a4c8"
      },
      "source": [
        "type(4.5) #float o decimal"
      ],
      "execution_count": null,
      "outputs": [
        {
          "output_type": "execute_result",
          "data": {
            "text/plain": [
              "float"
            ]
          },
          "metadata": {
            "tags": []
          },
          "execution_count": 21
        }
      ]
    },
    {
      "cell_type": "code",
      "metadata": {
        "colab": {
          "base_uri": "https://localhost:8080/"
        },
        "id": "7mZ-PWuYKXfV",
        "outputId": "1eb8d166-8c52-4e03-9882-b94ff15038c9"
      },
      "source": [
        "type(\"carro\") #string o cadena de texto"
      ],
      "execution_count": null,
      "outputs": [
        {
          "output_type": "execute_result",
          "data": {
            "text/plain": [
              "str"
            ]
          },
          "metadata": {
            "tags": []
          },
          "execution_count": 22
        }
      ]
    },
    {
      "cell_type": "code",
      "metadata": {
        "id": "zLo0mRSl2YgE"
      },
      "source": [
        "a = 4\n",
        "b = 3\n",
        "c = 2\n",
        "d = 10\n",
        "e = 'carro'\n",
        "f = 'elefante'\n",
        "g = True\n",
        "h = False"
      ],
      "execution_count": null,
      "outputs": []
    },
    {
      "cell_type": "code",
      "metadata": {
        "colab": {
          "base_uri": "https://localhost:8080/",
          "height": 35
        },
        "id": "d_MKjN6X7vT2",
        "outputId": "23deb144-55b0-4279-acab-b91910829d8a"
      },
      "source": [
        "f"
      ],
      "execution_count": null,
      "outputs": [
        {
          "output_type": "execute_result",
          "data": {
            "application/vnd.google.colaboratory.intrinsic+json": {
              "type": "string"
            },
            "text/plain": [
              "'elefante'"
            ]
          },
          "metadata": {},
          "execution_count": 2
        }
      ]
    },
    {
      "cell_type": "code",
      "metadata": {
        "colab": {
          "base_uri": "https://localhost:8080/"
        },
        "id": "vXimrsYp2ZZa",
        "outputId": "e5ee7b41-cd58-4d12-aede-31e3bce83610"
      },
      "source": [
        "b*c"
      ],
      "execution_count": null,
      "outputs": [
        {
          "output_type": "execute_result",
          "data": {
            "text/plain": [
              "6"
            ]
          },
          "metadata": {},
          "execution_count": 3
        }
      ]
    },
    {
      "cell_type": "code",
      "metadata": {
        "colab": {
          "base_uri": "https://localhost:8080/"
        },
        "id": "JW8lzARrKZZ9",
        "outputId": "f5ee1edb-7737-4321-aaaf-16e4c3b42482"
      },
      "source": [
        "type(False) #booleano"
      ],
      "execution_count": null,
      "outputs": [
        {
          "output_type": "execute_result",
          "data": {
            "text/plain": [
              "bool"
            ]
          },
          "metadata": {
            "tags": []
          },
          "execution_count": 23
        }
      ]
    },
    {
      "cell_type": "markdown",
      "metadata": {
        "id": "sYsk6NYyKeBR"
      },
      "source": [
        "Variables \n",
        "\n",
        "Variables en minúscula\n",
        "\n",
        "Separación con un guión bajo\n",
        "\n",
        "No empezar con un número\n"
      ]
    },
    {
      "cell_type": "code",
      "metadata": {
        "id": "TSvhLR_6qOkj"
      },
      "source": [
        "a = 4\n",
        "b = 3\n",
        "c = 2\n",
        "d = 10\n",
        "e = 'carro'\n",
        "f = 'elefante'\n",
        "g = True\n",
        "h = False"
      ],
      "execution_count": null,
      "outputs": []
    },
    {
      "cell_type": "code",
      "metadata": {
        "colab": {
          "base_uri": "https://localhost:8080/"
        },
        "id": "Jzmvuj7B3KIn",
        "outputId": "0b876917-adfc-415f-9c97-f2d8e016991c"
      },
      "source": [
        "3*True"
      ],
      "execution_count": null,
      "outputs": [
        {
          "output_type": "execute_result",
          "data": {
            "text/plain": [
              "3"
            ]
          },
          "metadata": {
            "tags": []
          },
          "execution_count": 17
        }
      ]
    },
    {
      "cell_type": "code",
      "metadata": {
        "id": "YMPFFcWBKbh1"
      },
      "source": [
        "x = 4"
      ],
      "execution_count": null,
      "outputs": []
    },
    {
      "cell_type": "code",
      "metadata": {
        "id": "3_k3lzJ9KoAt"
      },
      "source": [
        "y = True"
      ],
      "execution_count": null,
      "outputs": []
    },
    {
      "cell_type": "code",
      "metadata": {
        "id": "b0A7XGoNqZ6D"
      },
      "source": [
        "b = 3"
      ],
      "execution_count": null,
      "outputs": []
    },
    {
      "cell_type": "code",
      "metadata": {
        "id": "sYOvCF-iqdSz"
      },
      "source": [
        "c = 2"
      ],
      "execution_count": null,
      "outputs": []
    },
    {
      "cell_type": "code",
      "metadata": {
        "id": "vW2mhL9CqfC_"
      },
      "source": [
        "d = 10"
      ],
      "execution_count": null,
      "outputs": []
    },
    {
      "cell_type": "code",
      "metadata": {
        "id": "b8Lr2UPZqhZa"
      },
      "source": [
        "h = False"
      ],
      "execution_count": null,
      "outputs": []
    },
    {
      "cell_type": "code",
      "metadata": {
        "colab": {
          "base_uri": "https://localhost:8080/"
        },
        "id": "xNRuEP3wqS5C",
        "outputId": "adb6c889-b88b-472e-d9f8-0fddf283f907"
      },
      "source": [
        "y-x"
      ],
      "execution_count": null,
      "outputs": [
        {
          "output_type": "execute_result",
          "data": {
            "text/plain": [
              "-3"
            ]
          },
          "metadata": {},
          "execution_count": 20
        }
      ]
    },
    {
      "cell_type": "code",
      "metadata": {
        "id": "qmJhFyYqKp4E"
      },
      "source": [
        "z = 4.5"
      ],
      "execution_count": null,
      "outputs": []
    },
    {
      "cell_type": "code",
      "metadata": {
        "id": "BH4ipNYvKr9s"
      },
      "source": [
        "m = 'carro'"
      ],
      "execution_count": null,
      "outputs": []
    },
    {
      "cell_type": "code",
      "metadata": {
        "colab": {
          "base_uri": "https://localhost:8080/"
        },
        "id": "119cDH85Ktyc",
        "outputId": "8dd5baad-7f47-45e4-f895-9bd3b8263e16"
      },
      "source": [
        "x, y, z, m"
      ],
      "execution_count": null,
      "outputs": [
        {
          "output_type": "execute_result",
          "data": {
            "text/plain": [
              "(4, True, 4.5, 'carro')"
            ]
          },
          "metadata": {},
          "execution_count": 23
        }
      ]
    },
    {
      "cell_type": "code",
      "metadata": {
        "id": "LxxP12lzKvlE"
      },
      "source": [
        "n = 'elefante'"
      ],
      "execution_count": null,
      "outputs": []
    },
    {
      "cell_type": "code",
      "metadata": {
        "colab": {
          "base_uri": "https://localhost:8080/",
          "height": 35
        },
        "id": "A8wnT3kKKxoE",
        "outputId": "e0aeede9-627a-4bbb-f589-be75ba1985af"
      },
      "source": [
        "n+m"
      ],
      "execution_count": null,
      "outputs": [
        {
          "output_type": "execute_result",
          "data": {
            "application/vnd.google.colaboratory.intrinsic+json": {
              "type": "string"
            },
            "text/plain": [
              "'elefantecarro'"
            ]
          },
          "metadata": {},
          "execution_count": 25
        }
      ]
    },
    {
      "cell_type": "markdown",
      "metadata": {
        "id": "7ogxgbCRK4BS"
      },
      "source": [
        "Estructuras de datos\n",
        "\n",
        "Listas []\n"
      ]
    },
    {
      "cell_type": "code",
      "metadata": {
        "id": "0-Axz8m7K0C8"
      },
      "source": [
        "lista_vacia = []"
      ],
      "execution_count": null,
      "outputs": []
    },
    {
      "cell_type": "code",
      "metadata": {
        "colab": {
          "base_uri": "https://localhost:8080/"
        },
        "id": "DUIQIlKsK_Qi",
        "outputId": "8892a3bd-1890-4a0d-faf7-0919c3433893"
      },
      "source": [
        "type(lista_vacia)"
      ],
      "execution_count": null,
      "outputs": [
        {
          "output_type": "execute_result",
          "data": {
            "text/plain": [
              "list"
            ]
          },
          "metadata": {
            "tags": []
          },
          "execution_count": 32
        }
      ]
    },
    {
      "cell_type": "code",
      "metadata": {
        "id": "Gfy8WMH0LA4C"
      },
      "source": [
        "lista = [1,3,6,7,8,12,4,7,2,4,98]"
      ],
      "execution_count": null,
      "outputs": []
    },
    {
      "cell_type": "code",
      "metadata": {
        "id": "nQVMbATKLCSq"
      },
      "source": [
        "lista.append(7) #agregar a la última posición de la lista"
      ],
      "execution_count": null,
      "outputs": []
    },
    {
      "cell_type": "code",
      "metadata": {
        "colab": {
          "base_uri": "https://localhost:8080/"
        },
        "id": "Iu47qtyxLDwC",
        "outputId": "5abac13f-39c1-4b21-8254-59d60d059c18"
      },
      "source": [
        "lista"
      ],
      "execution_count": null,
      "outputs": [
        {
          "output_type": "execute_result",
          "data": {
            "text/plain": [
              "[1, 3, 6, 7, 8, 12, 4, 7, 2, 4, 98, 7]"
            ]
          },
          "metadata": {
            "tags": []
          },
          "execution_count": 35
        }
      ]
    },
    {
      "cell_type": "code",
      "metadata": {
        "colab": {
          "base_uri": "https://localhost:8080/"
        },
        "id": "EeWJX6umLFm6",
        "outputId": "587e52ab-813b-416d-9afb-f53b1dfab921"
      },
      "source": [
        "lista.count(7) #cuenta cuántas veces se repite el elemento en la lista"
      ],
      "execution_count": null,
      "outputs": [
        {
          "output_type": "execute_result",
          "data": {
            "text/plain": [
              "3"
            ]
          },
          "metadata": {
            "tags": []
          },
          "execution_count": 36
        }
      ]
    },
    {
      "cell_type": "code",
      "metadata": {
        "id": "0kBQuUUeLHEa"
      },
      "source": [
        "lista.extend([3,4,5,6,7,8]) #agregar más de un elemento"
      ],
      "execution_count": null,
      "outputs": []
    },
    {
      "cell_type": "code",
      "metadata": {
        "colab": {
          "base_uri": "https://localhost:8080/"
        },
        "id": "TqZmW35XLInK",
        "outputId": "24de8526-e337-4746-a122-10ed9397299e"
      },
      "source": [
        "lista"
      ],
      "execution_count": null,
      "outputs": [
        {
          "output_type": "execute_result",
          "data": {
            "text/plain": [
              "[1, 3, 6, 7, 8, 12, 4, 7, 2, 4, 98, 7, 3, 4, 5, 6, 7, 8]"
            ]
          },
          "metadata": {
            "tags": []
          },
          "execution_count": 38
        }
      ]
    },
    {
      "cell_type": "code",
      "metadata": {
        "colab": {
          "base_uri": "https://localhost:8080/"
        },
        "id": "EjympMaRLLFS",
        "outputId": "ad578be8-d518-453c-c34d-f179c667ab5e"
      },
      "source": [
        "lista.index(4) #preguntamos por la posición del elemento"
      ],
      "execution_count": null,
      "outputs": [
        {
          "output_type": "execute_result",
          "data": {
            "text/plain": [
              "6"
            ]
          },
          "metadata": {
            "tags": []
          },
          "execution_count": 39
        }
      ]
    },
    {
      "cell_type": "code",
      "metadata": {
        "colab": {
          "base_uri": "https://localhost:8080/"
        },
        "id": "nBVl_WBrLMsq",
        "outputId": "51c2cdb8-2415-4049-94ef-7933a3389fa0"
      },
      "source": [
        "lista[4]"
      ],
      "execution_count": null,
      "outputs": [
        {
          "output_type": "execute_result",
          "data": {
            "text/plain": [
              "8"
            ]
          },
          "metadata": {
            "tags": []
          },
          "execution_count": 40
        }
      ]
    },
    {
      "cell_type": "code",
      "metadata": {
        "id": "VcaUyQPPLPRa"
      },
      "source": [
        "lista.insert(0, 10) #insertamos por posición al elemento (posición, elemento)"
      ],
      "execution_count": null,
      "outputs": []
    },
    {
      "cell_type": "code",
      "metadata": {
        "colab": {
          "base_uri": "https://localhost:8080/"
        },
        "id": "xi0RbThELQ1h",
        "outputId": "fbf7b585-bfd8-431f-d247-a28995170925"
      },
      "source": [
        "lista"
      ],
      "execution_count": null,
      "outputs": [
        {
          "output_type": "execute_result",
          "data": {
            "text/plain": [
              "[10, 1, 3, 6, 7, 8, 12, 4, 7, 2, 4, 98, 7, 3, 4, 5, 6, 7, 8]"
            ]
          },
          "metadata": {
            "tags": []
          },
          "execution_count": 42
        }
      ]
    },
    {
      "cell_type": "code",
      "metadata": {
        "id": "xjXHyiS1LTV6"
      },
      "source": [
        "lista.remove(4) #elimina el elemento"
      ],
      "execution_count": null,
      "outputs": []
    },
    {
      "cell_type": "code",
      "metadata": {
        "colab": {
          "base_uri": "https://localhost:8080/"
        },
        "id": "YddofzUDLVmZ",
        "outputId": "3581400a-510e-418c-f793-195fdb2b48aa"
      },
      "source": [
        "lista"
      ],
      "execution_count": null,
      "outputs": [
        {
          "output_type": "execute_result",
          "data": {
            "text/plain": [
              "[10, 1, 3, 6, 7, 8, 12, 7, 2, 4, 98, 7, 3, 4, 5, 6, 7, 8]"
            ]
          },
          "metadata": {
            "tags": []
          },
          "execution_count": 44
        }
      ]
    },
    {
      "cell_type": "code",
      "metadata": {
        "colab": {
          "base_uri": "https://localhost:8080/"
        },
        "id": "9ydu5--9LXJa",
        "outputId": "f263aa75-23cc-4c6e-e5b5-a0874c988860"
      },
      "source": [
        "lista.pop() #elimina el último elemento"
      ],
      "execution_count": null,
      "outputs": [
        {
          "output_type": "execute_result",
          "data": {
            "text/plain": [
              "8"
            ]
          },
          "metadata": {
            "tags": []
          },
          "execution_count": 45
        }
      ]
    },
    {
      "cell_type": "code",
      "metadata": {
        "colab": {
          "base_uri": "https://localhost:8080/"
        },
        "id": "SvGlMwY4LaMR",
        "outputId": "ccd876bd-bd2e-49a2-a872-62fb4263d840"
      },
      "source": [
        "lista.pop(4) #elimina elemento por posición"
      ],
      "execution_count": null,
      "outputs": [
        {
          "output_type": "execute_result",
          "data": {
            "text/plain": [
              "7"
            ]
          },
          "metadata": {
            "tags": []
          },
          "execution_count": 46
        }
      ]
    },
    {
      "cell_type": "code",
      "metadata": {
        "id": "nBq1HAvdLboR"
      },
      "source": [
        "lista.sort() #organizar de menor a mayor"
      ],
      "execution_count": null,
      "outputs": []
    },
    {
      "cell_type": "code",
      "metadata": {
        "colab": {
          "base_uri": "https://localhost:8080/"
        },
        "id": "pPt8WCs2Ldmy",
        "outputId": "a9fa40e1-4385-437f-a198-e0a1fe5860df"
      },
      "source": [
        "lista"
      ],
      "execution_count": null,
      "outputs": [
        {
          "output_type": "execute_result",
          "data": {
            "text/plain": [
              "[1, 2, 3, 3, 4, 4, 5, 6, 6, 7, 7, 7, 8, 10, 12, 98]"
            ]
          },
          "metadata": {
            "tags": []
          },
          "execution_count": 48
        }
      ]
    },
    {
      "cell_type": "code",
      "metadata": {
        "id": "lwXA_g_rLgqC"
      },
      "source": [
        "lista.sort(reverse=True) #organizar de mayor a menor"
      ],
      "execution_count": null,
      "outputs": []
    },
    {
      "cell_type": "code",
      "metadata": {
        "colab": {
          "base_uri": "https://localhost:8080/"
        },
        "id": "wBdHKewZLigx",
        "outputId": "d3739ced-173f-4c74-c26d-bec315f9bf49"
      },
      "source": [
        "lista"
      ],
      "execution_count": null,
      "outputs": [
        {
          "output_type": "execute_result",
          "data": {
            "text/plain": [
              "[98, 12, 10, 8, 7, 7, 7, 6, 6, 5, 4, 4, 3, 3, 2, 1]"
            ]
          },
          "metadata": {
            "tags": []
          },
          "execution_count": 50
        }
      ]
    },
    {
      "cell_type": "code",
      "metadata": {
        "id": "JeewhkJQLj9j"
      },
      "source": [
        "lista.clear()"
      ],
      "execution_count": null,
      "outputs": []
    },
    {
      "cell_type": "code",
      "metadata": {
        "colab": {
          "base_uri": "https://localhost:8080/"
        },
        "id": "uXnR940xLlpJ",
        "outputId": "a6997a31-9951-40e6-d810-705749f65ae7"
      },
      "source": [
        "lista"
      ],
      "execution_count": null,
      "outputs": [
        {
          "output_type": "execute_result",
          "data": {
            "text/plain": [
              "[]"
            ]
          },
          "metadata": {
            "tags": []
          },
          "execution_count": 52
        }
      ]
    },
    {
      "cell_type": "markdown",
      "metadata": {
        "id": "kTUCZQkJLp6p"
      },
      "source": [
        "Tupla ( )"
      ]
    },
    {
      "cell_type": "code",
      "metadata": {
        "id": "QH7ea00yLnbp"
      },
      "source": [
        "tupla = (3,4,6,7,21,9,9,9,5,3,6)"
      ],
      "execution_count": null,
      "outputs": []
    },
    {
      "cell_type": "code",
      "metadata": {
        "colab": {
          "base_uri": "https://localhost:8080/"
        },
        "id": "i_vQlpAVLui-",
        "outputId": "eabf88ef-7a11-4061-e974-58a5ca9cf87f"
      },
      "source": [
        "tupla.count(9) #cuenta cuántas veces se repite el elemento en la tupla"
      ],
      "execution_count": null,
      "outputs": [
        {
          "output_type": "execute_result",
          "data": {
            "text/plain": [
              "3"
            ]
          },
          "metadata": {
            "tags": []
          },
          "execution_count": 54
        }
      ]
    },
    {
      "cell_type": "code",
      "metadata": {
        "colab": {
          "base_uri": "https://localhost:8080/"
        },
        "id": "0kcyQ8_yLwPV",
        "outputId": "5890ce36-e6ec-4913-f070-56de19f1538d"
      },
      "source": [
        "tupla.index(4)"
      ],
      "execution_count": null,
      "outputs": [
        {
          "output_type": "execute_result",
          "data": {
            "text/plain": [
              "1"
            ]
          },
          "metadata": {
            "tags": []
          },
          "execution_count": 55
        }
      ]
    },
    {
      "cell_type": "code",
      "metadata": {
        "colab": {
          "base_uri": "https://localhost:8080/"
        },
        "id": "T7VbfxX_Lx9d",
        "outputId": "9ad409a8-250e-434c-e256-6ebddca2da4b"
      },
      "source": [
        "tupla[10]"
      ],
      "execution_count": null,
      "outputs": [
        {
          "output_type": "execute_result",
          "data": {
            "text/plain": [
              "6"
            ]
          },
          "metadata": {
            "tags": []
          },
          "execution_count": 56
        }
      ]
    },
    {
      "cell_type": "code",
      "metadata": {
        "colab": {
          "base_uri": "https://localhost:8080/"
        },
        "id": "K4q7vQIqLznd",
        "outputId": "5d2e622b-53cb-4564-b5d3-7abc4bb586b8"
      },
      "source": [
        "type(tupla)"
      ],
      "execution_count": null,
      "outputs": [
        {
          "output_type": "execute_result",
          "data": {
            "text/plain": [
              "tuple"
            ]
          },
          "metadata": {
            "tags": []
          },
          "execution_count": 57
        }
      ]
    },
    {
      "cell_type": "markdown",
      "metadata": {
        "id": "BohWeNS5L5mm"
      },
      "source": [
        "Diccionarios \n",
        "\n",
        "{'key':'values'} "
      ]
    },
    {
      "cell_type": "code",
      "metadata": {
        "id": "nDcPRXBYL2OM"
      },
      "source": [
        "dict_1 = {'key1':'values_1','key2':'values_2','key3':'values_3'}"
      ],
      "execution_count": null,
      "outputs": []
    },
    {
      "cell_type": "code",
      "metadata": {
        "colab": {
          "base_uri": "https://localhost:8080/",
          "height": 35
        },
        "id": "C7R-pWTZMAVk",
        "outputId": "2d4b5725-f415-4c07-ac5a-276ff55a5969"
      },
      "source": [
        "dict_1['key3']"
      ],
      "execution_count": null,
      "outputs": [
        {
          "output_type": "execute_result",
          "data": {
            "application/vnd.google.colaboratory.intrinsic+json": {
              "type": "string"
            },
            "text/plain": [
              "'values_3'"
            ]
          },
          "metadata": {
            "tags": []
          },
          "execution_count": 59
        }
      ]
    },
    {
      "cell_type": "code",
      "metadata": {
        "id": "j3QEGIGvMCWk"
      },
      "source": [
        "dict_2 = {'Idiomas':['es','en','it','po','fr','de','sw'],\n",
        "          'Países':['España','USA','Italia','Brasil','Francia','Alemania','Kenia'],\n",
        "          'Capitales':['Madrid','Washington','Roma','Brasilia','Paris','Berlín','Nairobi']}"
      ],
      "execution_count": null,
      "outputs": []
    },
    {
      "cell_type": "code",
      "metadata": {
        "id": "yJYTmK4NMEM0"
      },
      "source": [
        "dict_2['Idiomas'].append('ru')"
      ],
      "execution_count": null,
      "outputs": []
    },
    {
      "cell_type": "code",
      "metadata": {
        "id": "leyFkR1fMF_c"
      },
      "source": [
        "dict_2['Países'].append('Rusia')"
      ],
      "execution_count": null,
      "outputs": []
    },
    {
      "cell_type": "code",
      "metadata": {
        "id": "eL0R-Gb4MHp0"
      },
      "source": [
        "dict_2['Capitales'].append('Moscú')"
      ],
      "execution_count": null,
      "outputs": []
    },
    {
      "cell_type": "code",
      "metadata": {
        "colab": {
          "base_uri": "https://localhost:8080/"
        },
        "id": "eaoneG3QMJeF",
        "outputId": "115ba527-c98a-43c3-ac35-741e0979bc82"
      },
      "source": [
        "dict_2.items()"
      ],
      "execution_count": null,
      "outputs": [
        {
          "output_type": "execute_result",
          "data": {
            "text/plain": [
              "dict_items([('Idiomas', ['es', 'en', 'it', 'po', 'fr', 'de', 'sw', 'ru']), ('Países', ['España', 'USA', 'Italia', 'Brasil', 'Francia', 'Alemania', 'Kenia', 'Rusia']), ('Capitales', ['Madrid', 'Washington', 'Roma', 'Brasilia', 'Paris', 'Berlín', 'Nairobi', 'Moscú'])])"
            ]
          },
          "metadata": {
            "tags": []
          },
          "execution_count": 64
        }
      ]
    },
    {
      "cell_type": "code",
      "metadata": {
        "colab": {
          "base_uri": "https://localhost:8080/"
        },
        "id": "unMzO5oTMMSs",
        "outputId": "c7caf39f-fc47-49cf-fb45-c2662f481999"
      },
      "source": [
        "dict_2.keys()"
      ],
      "execution_count": null,
      "outputs": [
        {
          "output_type": "execute_result",
          "data": {
            "text/plain": [
              "dict_keys(['Idiomas', 'Países', 'Capitales'])"
            ]
          },
          "metadata": {
            "tags": []
          },
          "execution_count": 65
        }
      ]
    },
    {
      "cell_type": "code",
      "metadata": {
        "colab": {
          "base_uri": "https://localhost:8080/"
        },
        "id": "1OPOd2CfMOFM",
        "outputId": "9e5e6725-a698-494e-e220-8d76925e48be"
      },
      "source": [
        "dict_2.values()"
      ],
      "execution_count": null,
      "outputs": [
        {
          "output_type": "execute_result",
          "data": {
            "text/plain": [
              "dict_values([['es', 'en', 'it', 'po', 'fr', 'de', 'sw', 'ru'], ['España', 'USA', 'Italia', 'Brasil', 'Francia', 'Alemania', 'Kenia', 'Rusia'], ['Madrid', 'Washington', 'Roma', 'Brasilia', 'Paris', 'Berlín', 'Nairobi', 'Moscú']])"
            ]
          },
          "metadata": {
            "tags": []
          },
          "execution_count": 66
        }
      ]
    },
    {
      "cell_type": "code",
      "metadata": {
        "id": "y3eSOoZIMPzk"
      },
      "source": [
        "dict_2.clear()"
      ],
      "execution_count": null,
      "outputs": []
    },
    {
      "cell_type": "code",
      "metadata": {
        "id": "XBSdtYIKMRVE"
      },
      "source": [
        "import pandas as pd\n",
        "df = pd.DataFrame(dict_2)"
      ],
      "execution_count": null,
      "outputs": []
    },
    {
      "cell_type": "markdown",
      "metadata": {
        "id": "5UQX-MPRMZAC"
      },
      "source": [
        "Funciones"
      ]
    },
    {
      "cell_type": "code",
      "metadata": {
        "colab": {
          "base_uri": "https://localhost:8080/"
        },
        "id": "MlaK_CfwMU3U",
        "outputId": "35b32688-cf34-4181-a324-add5c0192336"
      },
      "source": [
        "print('Hola, mundo') #imprimir el elemento"
      ],
      "execution_count": null,
      "outputs": [
        {
          "output_type": "stream",
          "name": "stdout",
          "text": [
            "Hola, mundo\n"
          ]
        }
      ]
    },
    {
      "cell_type": "code",
      "metadata": {
        "colab": {
          "base_uri": "https://localhost:8080/"
        },
        "id": "yQI9qnHAMcC0",
        "outputId": "24092dfe-7661-471c-c203-be8dd04fdd5d"
      },
      "source": [
        "print(4)"
      ],
      "execution_count": null,
      "outputs": [
        {
          "output_type": "stream",
          "text": [
            "4\n"
          ],
          "name": "stdout"
        }
      ]
    },
    {
      "cell_type": "code",
      "metadata": {
        "colab": {
          "base_uri": "https://localhost:8080/"
        },
        "id": "1zVLbvUjMda8",
        "outputId": "6709cc5c-f892-4d0b-c055-704d126c7143"
      },
      "source": [
        "print(x)"
      ],
      "execution_count": null,
      "outputs": [
        {
          "output_type": "stream",
          "text": [
            "4\n"
          ],
          "name": "stdout"
        }
      ]
    },
    {
      "cell_type": "code",
      "metadata": {
        "colab": {
          "base_uri": "https://localhost:8080/",
          "height": 52
        },
        "id": "vRF21C7RMfAs",
        "outputId": "7e86d5da-209b-4b4b-c7a4-25fa1f61da40"
      },
      "source": [
        "input()"
      ],
      "execution_count": null,
      "outputs": [
        {
          "name": "stdout",
          "output_type": "stream",
          "text": [
            "hola\n"
          ]
        },
        {
          "output_type": "execute_result",
          "data": {
            "application/vnd.google.colaboratory.intrinsic+json": {
              "type": "string"
            },
            "text/plain": [
              "'hola'"
            ]
          },
          "metadata": {},
          "execution_count": 3
        }
      ]
    },
    {
      "cell_type": "code",
      "metadata": {
        "colab": {
          "base_uri": "https://localhost:8080/"
        },
        "id": "1pOjmGuUMgek",
        "outputId": "b67c0910-f62e-4848-c358-68e4034a0558"
      },
      "source": [
        "nombre = input()\n",
        "apellido = input()\n",
        "edad = input()"
      ],
      "execution_count": null,
      "outputs": [
        {
          "name": "stdout",
          "output_type": "stream",
          "text": [
            "María\n",
            "Hernández\n",
            "24\n"
          ]
        }
      ]
    },
    {
      "cell_type": "code",
      "metadata": {
        "id": "WifCdO373avh"
      },
      "source": [
        ""
      ],
      "execution_count": null,
      "outputs": []
    },
    {
      "cell_type": "code",
      "metadata": {
        "colab": {
          "base_uri": "https://localhost:8080/",
          "height": 35
        },
        "id": "HVsCoGXpMne8",
        "outputId": "09ef6226-7dd8-45b9-d712-65b69160f77b"
      },
      "source": [
        "edad"
      ],
      "execution_count": null,
      "outputs": [
        {
          "output_type": "execute_result",
          "data": {
            "application/vnd.google.colaboratory.intrinsic+json": {
              "type": "string"
            },
            "text/plain": [
              "'24'"
            ]
          },
          "metadata": {
            "tags": []
          },
          "execution_count": 75
        }
      ]
    },
    {
      "cell_type": "code",
      "metadata": {
        "colab": {
          "base_uri": "https://localhost:8080/"
        },
        "id": "Vp6i7dvwMvJD",
        "outputId": "ab5261b4-473a-460f-c144-abf60ab8ffe6"
      },
      "source": [
        "int(edad) #transforma en un entero"
      ],
      "execution_count": null,
      "outputs": [
        {
          "output_type": "execute_result",
          "data": {
            "text/plain": [
              "24"
            ]
          },
          "metadata": {
            "tags": []
          },
          "execution_count": 76
        }
      ]
    },
    {
      "cell_type": "code",
      "metadata": {
        "colab": {
          "base_uri": "https://localhost:8080/"
        },
        "id": "IBhmfqHfMwm0",
        "outputId": "1a4bd66f-00c4-4f17-e11f-6bf51db40b12"
      },
      "source": [
        "float(edad) #transforma en un float"
      ],
      "execution_count": null,
      "outputs": [
        {
          "output_type": "execute_result",
          "data": {
            "text/plain": [
              "24.0"
            ]
          },
          "metadata": {
            "tags": []
          },
          "execution_count": 77
        }
      ]
    },
    {
      "cell_type": "code",
      "metadata": {
        "colab": {
          "base_uri": "https://localhost:8080/",
          "height": 35
        },
        "id": "rNflZnjSMy3M",
        "outputId": "65c66604-489f-48ef-934d-b6436219d733"
      },
      "source": [
        "str(3241243465) #transforma en un string"
      ],
      "execution_count": null,
      "outputs": [
        {
          "output_type": "execute_result",
          "data": {
            "application/vnd.google.colaboratory.intrinsic+json": {
              "type": "string"
            },
            "text/plain": [
              "'3241243465'"
            ]
          },
          "metadata": {
            "tags": []
          },
          "execution_count": 78
        }
      ]
    },
    {
      "cell_type": "code",
      "metadata": {
        "colab": {
          "base_uri": "https://localhost:8080/"
        },
        "id": "a2Rv0m2uM0hL",
        "outputId": "6ee22265-9d35-4328-deb1-70f326128e2d"
      },
      "source": [
        "list(range(0,10,2)) #punto de partida, punto de llegada, stepsize"
      ],
      "execution_count": null,
      "outputs": [
        {
          "output_type": "execute_result",
          "data": {
            "text/plain": [
              "[0, 2, 4, 6, 8]"
            ]
          },
          "metadata": {},
          "execution_count": 7
        }
      ]
    },
    {
      "cell_type": "code",
      "metadata": {
        "colab": {
          "base_uri": "https://localhost:8080/"
        },
        "id": "Hwi7Y4j-M2kk",
        "outputId": "1e561ca8-1e72-42ee-ade9-d03b6ea48080"
      },
      "source": [
        "list(range(10))"
      ],
      "execution_count": null,
      "outputs": [
        {
          "output_type": "execute_result",
          "data": {
            "text/plain": [
              "[0, 1, 2, 3, 4, 5, 6, 7, 8, 9]"
            ]
          },
          "metadata": {
            "tags": []
          },
          "execution_count": 80
        }
      ]
    },
    {
      "cell_type": "code",
      "metadata": {
        "colab": {
          "base_uri": "https://localhost:8080/"
        },
        "id": "pUK88IClM4Gc",
        "outputId": "b9000345-4c15-462d-ea42-d3a0246562bb"
      },
      "source": [
        "list(range(2,10))"
      ],
      "execution_count": null,
      "outputs": [
        {
          "output_type": "execute_result",
          "data": {
            "text/plain": [
              "[2, 3, 4, 5, 6, 7, 8, 9]"
            ]
          },
          "metadata": {
            "tags": []
          },
          "execution_count": 81
        }
      ]
    },
    {
      "cell_type": "code",
      "metadata": {
        "id": "kjRUpZaSM6V0"
      },
      "source": [
        "lista_valores = list(range(20))"
      ],
      "execution_count": null,
      "outputs": []
    },
    {
      "cell_type": "code",
      "metadata": {
        "colab": {
          "base_uri": "https://localhost:8080/"
        },
        "id": "gaeL26h2M8eD",
        "outputId": "fe1f166b-00fd-43c9-e37e-bd1dd523b678"
      },
      "source": [
        "lista_valores"
      ],
      "execution_count": null,
      "outputs": [
        {
          "output_type": "execute_result",
          "data": {
            "text/plain": [
              "[0, 1, 2, 3, 4, 5, 6, 7, 8, 9, 10, 11, 12, 13, 14, 15, 16, 17, 18, 19]"
            ]
          },
          "metadata": {},
          "execution_count": 13
        }
      ]
    },
    {
      "cell_type": "code",
      "metadata": {
        "colab": {
          "base_uri": "https://localhost:8080/"
        },
        "id": "ifMLbwA7M-DE",
        "outputId": "9ec38528-558d-4051-aec3-55c6f025c998"
      },
      "source": [
        "max(lista_valores) #número mayor"
      ],
      "execution_count": null,
      "outputs": [
        {
          "output_type": "execute_result",
          "data": {
            "text/plain": [
              "19"
            ]
          },
          "metadata": {
            "tags": []
          },
          "execution_count": 84
        }
      ]
    },
    {
      "cell_type": "code",
      "metadata": {
        "colab": {
          "base_uri": "https://localhost:8080/"
        },
        "id": "634Ed6_DM_i1",
        "outputId": "ac725c8e-80c9-4d74-da24-11d37b82f500"
      },
      "source": [
        "min(lista_valores) #número menor"
      ],
      "execution_count": null,
      "outputs": [
        {
          "output_type": "execute_result",
          "data": {
            "text/plain": [
              "0"
            ]
          },
          "metadata": {
            "tags": []
          },
          "execution_count": 85
        }
      ]
    },
    {
      "cell_type": "code",
      "metadata": {
        "colab": {
          "base_uri": "https://localhost:8080/"
        },
        "id": "_q4mkTbONBGU",
        "outputId": "ba15668d-5d9e-484b-9459-eb0fb0a7a86c"
      },
      "source": [
        "sum(lista_valores) #sumatoria"
      ],
      "execution_count": null,
      "outputs": [
        {
          "output_type": "execute_result",
          "data": {
            "text/plain": [
              "190"
            ]
          },
          "metadata": {
            "tags": []
          },
          "execution_count": 86
        }
      ]
    },
    {
      "cell_type": "code",
      "metadata": {
        "colab": {
          "base_uri": "https://localhost:8080/"
        },
        "id": "7Jj7Y4ZoNCbx",
        "outputId": "f08f60f4-e0fd-4cf2-9e9d-13229d7bd046"
      },
      "source": [
        "abs(-3) #valor absoluto"
      ],
      "execution_count": null,
      "outputs": [
        {
          "output_type": "execute_result",
          "data": {
            "text/plain": [
              "3"
            ]
          },
          "metadata": {
            "tags": []
          },
          "execution_count": 87
        }
      ]
    },
    {
      "cell_type": "code",
      "metadata": {
        "id": "MiUr4G2SNELM"
      },
      "source": [
        "n = 12341.234625865"
      ],
      "execution_count": null,
      "outputs": []
    },
    {
      "cell_type": "code",
      "metadata": {
        "colab": {
          "base_uri": "https://localhost:8080/"
        },
        "id": "-XxdWbFnNF9L",
        "outputId": "dc1c5a2b-8b91-4893-b0e3-15ae5327d863"
      },
      "source": [
        "round(n, 3) #función para redondear (número a redondear, número de dígitos)"
      ],
      "execution_count": null,
      "outputs": [
        {
          "output_type": "execute_result",
          "data": {
            "text/plain": [
              "12341.235"
            ]
          },
          "metadata": {
            "tags": []
          },
          "execution_count": 89
        }
      ]
    },
    {
      "cell_type": "code",
      "metadata": {
        "colab": {
          "base_uri": "https://localhost:8080/"
        },
        "id": "kr-bRMkuNHh7",
        "outputId": "d63bca01-1e8a-4960-bc8a-bd05752ee49b"
      },
      "source": [
        "len(lista_valores) #cuántos elementos tiene la lista"
      ],
      "execution_count": null,
      "outputs": [
        {
          "output_type": "execute_result",
          "data": {
            "text/plain": [
              "20"
            ]
          },
          "metadata": {
            "tags": []
          },
          "execution_count": 90
        }
      ]
    },
    {
      "cell_type": "markdown",
      "metadata": {
        "id": "-TrIx5W2NLNv"
      },
      "source": [
        "Funcion\n",
        "\n",
        "def #nombre_funcion(#argumentos):\n",
        "  #cuerpo de la función"
      ]
    },
    {
      "cell_type": "code",
      "metadata": {
        "id": "Au3LE6tGTLNf"
      },
      "source": [
        "# Estructura\n",
        "def nombre(argumentos):\n",
        "  acciones\n",
        "  return resultado"
      ],
      "execution_count": null,
      "outputs": []
    },
    {
      "cell_type": "code",
      "metadata": {
        "id": "Tw657h3cNI7T"
      },
      "source": [
        "def suma(a,b):\n",
        "  return a+b"
      ],
      "execution_count": null,
      "outputs": []
    },
    {
      "cell_type": "code",
      "metadata": {
        "colab": {
          "base_uri": "https://localhost:8080/"
        },
        "id": "C60SiLI1NQcj",
        "outputId": "2f1c1a4a-f6c4-428b-fdb4-41d30acdc03c"
      },
      "source": [
        "suma(3,4)"
      ],
      "execution_count": null,
      "outputs": [
        {
          "output_type": "execute_result",
          "data": {
            "text/plain": [
              "7"
            ]
          },
          "metadata": {},
          "execution_count": 9
        }
      ]
    },
    {
      "cell_type": "code",
      "metadata": {
        "id": "CnJnkB8hNSkj"
      },
      "source": [
        "def descriptivo(a):\n",
        "  media = sum(a)/len(a)\n",
        "  return sum(a), len(a), media"
      ],
      "execution_count": null,
      "outputs": []
    },
    {
      "cell_type": "code",
      "metadata": {
        "colab": {
          "base_uri": "https://localhost:8080/"
        },
        "id": "24YyTRfeNUTl",
        "outputId": "5d45d0dc-8692-4085-c52e-c492d4508c46"
      },
      "source": [
        "descriptivo(lista_valores)"
      ],
      "execution_count": null,
      "outputs": [
        {
          "output_type": "execute_result",
          "data": {
            "text/plain": [
              "(190, 20, 9.5)"
            ]
          },
          "metadata": {},
          "execution_count": 15
        }
      ]
    },
    {
      "cell_type": "code",
      "metadata": {
        "id": "_21w3bc_TYME"
      },
      "source": [
        "def f(x):\n",
        "   return x**2+3*x"
      ],
      "execution_count": null,
      "outputs": []
    },
    {
      "cell_type": "code",
      "metadata": {
        "colab": {
          "base_uri": "https://localhost:8080/"
        },
        "id": "i90ykEOWTZkY",
        "outputId": "a639b391-d981-4529-e30f-b70508cbba7a"
      },
      "source": [
        "f(6)"
      ],
      "execution_count": null,
      "outputs": [
        {
          "output_type": "execute_result",
          "data": {
            "text/plain": [
              "54"
            ]
          },
          "metadata": {},
          "execution_count": 8
        }
      ]
    },
    {
      "cell_type": "code",
      "metadata": {
        "id": "2FbNu5ebTiip"
      },
      "source": [
        "\n",
        "def f(x,y,z):\n",
        "  return x**2+z+3*y**2"
      ],
      "execution_count": null,
      "outputs": []
    },
    {
      "cell_type": "markdown",
      "metadata": {
        "id": "8xG_MmzWNYBK"
      },
      "source": [
        "Condicionales \n",
        "\n",
        "if \n",
        "\n",
        "elif \n",
        "\n",
        "else"
      ]
    },
    {
      "cell_type": "code",
      "metadata": {
        "colab": {
          "base_uri": "https://localhost:8080/"
        },
        "id": "xVKXYclHNWDE",
        "outputId": "423d96fe-b95e-4664-e924-a60540012f72"
      },
      "source": [
        "a = 10\n",
        "b = 4\n",
        "\n",
        "if a>b:\n",
        "  print(f'{a} es mayor que {b}')\n",
        "elif a<b:\n",
        "  print(f'{a} es menor que {b}')\n",
        "else:\n",
        "  print(f'{a} es igual a {b}')\n"
      ],
      "execution_count": null,
      "outputs": [
        {
          "output_type": "stream",
          "name": "stdout",
          "text": [
            "10 es mayor que 4\n"
          ]
        }
      ]
    },
    {
      "cell_type": "code",
      "metadata": {
        "id": "VuHGcUwJNcML"
      },
      "source": [
        "def tipo(a):\n",
        "  if type(a)==int:\n",
        "    return 'entero'\n",
        "  elif type(a)==str:\n",
        "    return 'texto'\n",
        "  elif type(a)==float:\n",
        "    return 'decimal'\n",
        "  else:\n",
        "    return 'tipo diferente de dato'\n",
        "\n",
        "def par_impar(a):\n",
        "  if type(a)==int:\n",
        "    if a%2==0:\n",
        "      print(f'{a} es par')\n",
        "      if a<10:\n",
        "        print(f'{a} es menor a 10.')\n",
        "      elif a>=10 and a<25:\n",
        "        print(f'{a} es mayor o igual a 10.')\n",
        "      else:\n",
        "        print(f'{a} es mayor a 25.')\n",
        "    else:\n",
        "      print(f'{a} es impar')\n",
        "  else:\n",
        "    print(f'{a} no es un entero es un {tipo(a)}. La función solo trabaja con enteros.')"
      ],
      "execution_count": null,
      "outputs": []
    },
    {
      "cell_type": "code",
      "metadata": {
        "colab": {
          "base_uri": "https://localhost:8080/",
          "height": 35
        },
        "id": "SsvbndE6avVg",
        "outputId": "2c023b0f-3238-4b57-f6ae-9e20d911ebb4"
      },
      "source": [
        "tipo(3)"
      ],
      "execution_count": null,
      "outputs": [
        {
          "output_type": "execute_result",
          "data": {
            "application/vnd.google.colaboratory.intrinsic+json": {
              "type": "string"
            },
            "text/plain": [
              "'entero'"
            ]
          },
          "metadata": {},
          "execution_count": 29
        }
      ]
    },
    {
      "cell_type": "code",
      "metadata": {
        "colab": {
          "base_uri": "https://localhost:8080/"
        },
        "id": "90CHdh2gNeSr",
        "outputId": "b60543a6-d2ec-45a8-8d78-02c2f0ff07ff"
      },
      "source": [
        "par_impar(26)"
      ],
      "execution_count": null,
      "outputs": [
        {
          "output_type": "stream",
          "name": "stdout",
          "text": [
            "26 es par\n",
            "26 es mayor a 25.\n"
          ]
        }
      ]
    },
    {
      "cell_type": "code",
      "metadata": {
        "colab": {
          "base_uri": "https://localhost:8080/"
        },
        "id": "sR40JQLNNhzz",
        "outputId": "f2c1ba24-091f-4292-fd26-c12e7c582993"
      },
      "source": [
        "par_impar(8.8)"
      ],
      "execution_count": null,
      "outputs": [
        {
          "output_type": "stream",
          "text": [
            "8.8 no es un entero es un decimal. La función solo trabaja con enteros.\n"
          ],
          "name": "stdout"
        }
      ]
    },
    {
      "cell_type": "code",
      "metadata": {
        "colab": {
          "base_uri": "https://localhost:8080/",
          "height": 35
        },
        "id": "RdcUzvBWNjYL",
        "outputId": "a9f88876-11f0-4721-db1a-73ca5149e7db"
      },
      "source": [
        "tipo(7.9)"
      ],
      "execution_count": null,
      "outputs": [
        {
          "output_type": "execute_result",
          "data": {
            "application/vnd.google.colaboratory.intrinsic+json": {
              "type": "string"
            },
            "text/plain": [
              "'decimal'"
            ]
          },
          "metadata": {
            "tags": []
          },
          "execution_count": 101
        }
      ]
    },
    {
      "cell_type": "code",
      "metadata": {
        "id": "gwJgUa5vfBbm"
      },
      "source": [
        "salario=int(input(\"salario:\"))\n",
        "salario_minimo=1000000\n",
        "\n",
        "if salario>salario_minimo:\n",
        "  gasto=int(input(\"Gastos:\"))\n",
        "  print(\"Usted gana mas del salario minimo y sus ahorros son de {}\".format(salario-gasto))\n",
        "elif salario==salario_minimo:\n",
        "  gasto=int(input(\"Gastos:\"))\n",
        "  print(f\"Usted gana excatamente el salario minimo y sus ahorros son de {salario-gasto}\")\n",
        "else:\n",
        "  gasto=int(input(\"Gastos:\"))\n",
        "  print(f\"Ustede gana menos del salario minimo y sus ahorros son de {salario-gasto}\")"
      ],
      "execution_count": null,
      "outputs": []
    },
    {
      "cell_type": "code",
      "metadata": {
        "id": "NI0W67YbfBLO"
      },
      "source": [
        ""
      ],
      "execution_count": null,
      "outputs": []
    },
    {
      "cell_type": "markdown",
      "metadata": {
        "id": "b_Wa0lfpNrq3"
      },
      "source": [
        "Bucle\n",
        "\n",
        "For\n",
        "for i in iterable:\n",
        "  #cuerpo del bucle"
      ]
    },
    {
      "cell_type": "code",
      "metadata": {
        "id": "uf4R6rl5NlQb"
      },
      "source": [
        "lista = list(range(10))"
      ],
      "execution_count": null,
      "outputs": []
    },
    {
      "cell_type": "code",
      "metadata": {
        "colab": {
          "base_uri": "https://localhost:8080/"
        },
        "id": "oakeGFRoNvqb",
        "outputId": "a21a4802-ae1e-4a4a-9bf9-8b40a6c2651e"
      },
      "source": [
        "lista"
      ],
      "execution_count": null,
      "outputs": [
        {
          "output_type": "execute_result",
          "data": {
            "text/plain": [
              "[0, 1, 2, 3, 4, 5, 6, 7, 8, 9]"
            ]
          },
          "metadata": {
            "tags": []
          },
          "execution_count": 103
        }
      ]
    },
    {
      "cell_type": "code",
      "metadata": {
        "colab": {
          "base_uri": "https://localhost:8080/"
        },
        "id": "uB6xOKxwNxMK",
        "outputId": "62dc1146-df22-4e5c-fbf4-13a72f6bc00e"
      },
      "source": [
        "for numero in lista:\n",
        "  print(numero)"
      ],
      "execution_count": null,
      "outputs": [
        {
          "output_type": "stream",
          "text": [
            "0\n",
            "1\n",
            "2\n",
            "3\n",
            "4\n",
            "5\n",
            "6\n",
            "7\n",
            "8\n",
            "9\n"
          ],
          "name": "stdout"
        }
      ]
    },
    {
      "cell_type": "code",
      "metadata": {
        "id": "A29TfFeyNyiL"
      },
      "source": [
        "lista_materias = ['mate1','mate2','mate3','micro1','micro2','micro3','macro1','macro2','macro3']\n",
        "lista_vistas = ['mate1','mate2','micro1','micro2','macro1']"
      ],
      "execution_count": null,
      "outputs": []
    },
    {
      "cell_type": "code",
      "metadata": {
        "colab": {
          "base_uri": "https://localhost:8080/"
        },
        "id": "xYFTp9fEN074",
        "outputId": "4362b1fe-3ecc-466b-ddc3-e6319bc06461"
      },
      "source": [
        "for materia in lista_materias:\n",
        "  if materia in lista_vistas:\n",
        "    print(f'Ya vi {materia}')\n",
        "  else:\n",
        "    print(f'No he visto {materia}')"
      ],
      "execution_count": null,
      "outputs": [
        {
          "output_type": "stream",
          "name": "stdout",
          "text": [
            "Ya vi mate1\n",
            "Ya vi mate2\n",
            "No he visto mate3\n",
            "Ya vi micro1\n",
            "Ya vi micro2\n",
            "No he visto micro3\n",
            "Ya vi macro1\n",
            "No he visto macro2\n",
            "No he visto macro3\n"
          ]
        }
      ]
    },
    {
      "cell_type": "code",
      "metadata": {
        "colab": {
          "base_uri": "https://localhost:8080/"
        },
        "id": "GuVIO6YsN5Zy",
        "outputId": "ae6f223d-ae64-40b7-ba0b-cd1c3c72b7b4"
      },
      "source": [
        "for numero in lista:\n",
        "  par_impar(numero)"
      ],
      "execution_count": null,
      "outputs": [
        {
          "output_type": "stream",
          "text": [
            "0 es par\n",
            "0 es menor a 10.\n",
            "1 es impar\n",
            "2 es par\n",
            "2 es menor a 10.\n",
            "3 es impar\n",
            "4 es par\n",
            "4 es menor a 10.\n",
            "5 es impar\n",
            "6 es par\n",
            "6 es menor a 10.\n",
            "7 es impar\n",
            "8 es par\n",
            "8 es menor a 10.\n",
            "9 es impar\n"
          ],
          "name": "stdout"
        }
      ]
    },
    {
      "cell_type": "code",
      "metadata": {
        "id": "9KdOI8VmN7Wb"
      },
      "source": [
        "semestre_materias = {'primero':['mate1','fundamentos','historia'],\n",
        "                     'segundo':['mate2','micro1','historia del pensamiento'],\n",
        "                     'tercero':['mate3','micro2','macro1'],\n",
        "                     'cuarto':['economate','marcro2','tecnicas']}"
      ],
      "execution_count": null,
      "outputs": []
    },
    {
      "cell_type": "code",
      "metadata": {
        "colab": {
          "base_uri": "https://localhost:8080/"
        },
        "id": "V8ZMnrEHN9Ab",
        "outputId": "0ce114ea-370d-4d91-f6fa-3589485e9247"
      },
      "source": [
        "for semestre in semestre_materias.keys():\n",
        "  for materia in semestre_materias[semestre]:\n",
        "    print(semestre,materia)"
      ],
      "execution_count": null,
      "outputs": [
        {
          "output_type": "stream",
          "text": [
            "primero mate1\n",
            "primero fundamentos\n",
            "primero historia\n",
            "segundo mate2\n",
            "segundo micro1\n",
            "segundo historia del pensamiento\n",
            "tercero mate3\n",
            "tercero micro2\n",
            "tercero macro1\n",
            "cuarto economate\n",
            "cuarto marcro2\n",
            "cuarto tecnicas\n"
          ],
          "name": "stdout"
        }
      ]
    },
    {
      "cell_type": "code",
      "metadata": {
        "colab": {
          "base_uri": "https://localhost:8080/"
        },
        "id": "7RKtUK4-N-6S",
        "outputId": "616d8941-8061-4c90-cd36-51eb083f72d0"
      },
      "source": [
        "for i in range(3):\n",
        "  for j in range(3):\n",
        "    print(i,j)"
      ],
      "execution_count": null,
      "outputs": [
        {
          "output_type": "stream",
          "text": [
            "0 0\n",
            "0 1\n",
            "0 2\n",
            "1 0\n",
            "1 1\n",
            "1 2\n",
            "2 0\n",
            "2 1\n",
            "2 2\n"
          ],
          "name": "stdout"
        }
      ]
    },
    {
      "cell_type": "code",
      "metadata": {
        "colab": {
          "base_uri": "https://localhost:8080/"
        },
        "id": "H8rVYmumOA9T",
        "outputId": "3724a0b8-4d74-479d-cf2f-74901f33b900"
      },
      "source": [
        "semestre_materias['segundo']"
      ],
      "execution_count": null,
      "outputs": [
        {
          "output_type": "execute_result",
          "data": {
            "text/plain": [
              "['mate2', 'micro1', 'historia del pensamiento']"
            ]
          },
          "metadata": {
            "tags": []
          },
          "execution_count": 111
        }
      ]
    },
    {
      "cell_type": "code",
      "metadata": {
        "colab": {
          "base_uri": "https://localhost:8080/"
        },
        "id": "SmF9C2WEOCcq",
        "outputId": "2277542b-bafc-463e-c47d-12216a21a3d5"
      },
      "source": [
        "semestre_materias.values()"
      ],
      "execution_count": null,
      "outputs": [
        {
          "output_type": "execute_result",
          "data": {
            "text/plain": [
              "dict_values([['mate1', 'fundamentos', 'historia'], ['mate2', 'micro1', 'historia del pensamiento'], ['mate3', 'micro2', 'macro1'], ['economate', 'marcro2', 'tecnicas']])"
            ]
          },
          "metadata": {
            "tags": []
          },
          "execution_count": 112
        }
      ]
    },
    {
      "cell_type": "code",
      "metadata": {
        "colab": {
          "base_uri": "https://localhost:8080/"
        },
        "id": "-g2IFytmOD97",
        "outputId": "277fa945-20fa-42e5-f2f3-667afae5128e"
      },
      "source": [
        "for numero in range(20):\n",
        "  if numero%2==0:\n",
        "    continue\n",
        "  elif numero==17:\n",
        "    break\n",
        "  else:\n",
        "    print(f'{numero} si va')"
      ],
      "execution_count": null,
      "outputs": [
        {
          "output_type": "stream",
          "text": [
            "1 si va\n",
            "3 si va\n",
            "5 si va\n",
            "7 si va\n",
            "9 si va\n",
            "11 si va\n",
            "13 si va\n",
            "15 si va\n"
          ],
          "name": "stdout"
        }
      ]
    },
    {
      "cell_type": "code",
      "metadata": {
        "colab": {
          "base_uri": "https://localhost:8080/"
        },
        "id": "uTLn5epzOFoR",
        "outputId": "22d36d6f-386b-403a-c596-75b0ce5a56ac"
      },
      "source": [
        "lista = [1,2,3,4]\n",
        "lista_2 = [5,6,7,8]\n",
        "\n",
        "for i,j in zip(lista,lista_2):\n",
        "  print(i,j)"
      ],
      "execution_count": null,
      "outputs": [
        {
          "output_type": "stream",
          "text": [
            "1 5\n",
            "2 6\n",
            "3 7\n",
            "4 8\n"
          ],
          "name": "stdout"
        }
      ]
    },
    {
      "cell_type": "code",
      "metadata": {
        "colab": {
          "base_uri": "https://localhost:8080/"
        },
        "id": "MVExoMMJOI0a",
        "outputId": "78af6a24-b613-4636-d475-135799a78477"
      },
      "source": [
        "\n",
        "for i in enumerate(lista_2):\n",
        "  print(i)\n",
        "  "
      ],
      "execution_count": null,
      "outputs": [
        {
          "output_type": "stream",
          "text": [
            "(0, 5)\n",
            "(1, 6)\n",
            "(2, 7)\n",
            "(3, 8)\n"
          ],
          "name": "stdout"
        }
      ]
    },
    {
      "cell_type": "markdown",
      "metadata": {
        "id": "BWZwh423LTkQ"
      },
      "source": [
        "MONITORIA 2\n",
        "\n",
        "\n",
        "---\n",
        "\n",
        "\n",
        "\n",
        "---\n",
        "\n"
      ]
    },
    {
      "cell_type": "markdown",
      "metadata": {
        "id": "F-Stxw7tOMcd"
      },
      "source": [
        "While\n",
        "\n",
        "while #condición:\n",
        "  #cuerpo del bucle\n",
        "  "
      ]
    },
    {
      "cell_type": "code",
      "metadata": {
        "id": "NfPO5IlpOLOi",
        "colab": {
          "base_uri": "https://localhost:8080/"
        },
        "outputId": "2b848df2-4d06-45d4-bfc6-429c1af2ae6e"
      },
      "source": [
        "velocidad=10\n",
        "while velocidad>0:\n",
        "  velocidad-=5\n",
        "  print(f\"La Velocidad es de {velocidad} km/h\")\n",
        "  if velocidad==0:\n",
        "    print(\"se detuvo el motor\")"
      ],
      "execution_count": null,
      "outputs": [
        {
          "output_type": "stream",
          "name": "stdout",
          "text": [
            "La Velocidad es de 5 km/h\n",
            "La Velocidad es de 0 km/h\n",
            "se detuvo el motor\n"
          ]
        }
      ]
    },
    {
      "cell_type": "markdown",
      "metadata": {
        "id": "BCyFPLQES9KE"
      },
      "source": [
        "Vamos a crear listas por medio de bucles"
      ]
    },
    {
      "cell_type": "code",
      "metadata": {
        "colab": {
          "base_uri": "https://localhost:8080/"
        },
        "id": "HO6m9_1eS8BK",
        "outputId": "88a4ecf0-8102-40df-d0a9-b96767364046"
      },
      "source": [
        "lista_pares=[i for i in range(0,25) if i%2==0]   #[elemento_nuevo for elemento in iterable_elementos if sentencia]\n",
        "lista_pares"
      ],
      "execution_count": null,
      "outputs": [
        {
          "output_type": "execute_result",
          "data": {
            "text/plain": [
              "[0, 2, 4, 6, 8, 10, 12, 14, 16, 18, 20, 22, 24]"
            ]
          },
          "metadata": {},
          "execution_count": 20
        }
      ]
    },
    {
      "cell_type": "markdown",
      "metadata": {
        "id": "ovLoYWLKUUi4"
      },
      "source": [
        "Sympy\n",
        "\n",
        "Sistema de álgebra computacional"
      ]
    },
    {
      "cell_type": "code",
      "metadata": {
        "id": "lQbxtqtXUTxa"
      },
      "source": [
        "from sympy import * \n",
        "Import sympy as sy\n",
        "\n",
        "x=Symbol('x')\n",
        "x,y,z= symbols(['x','y','z'])"
      ],
      "execution_count": 1,
      "outputs": []
    },
    {
      "cell_type": "code",
      "metadata": {
        "colab": {
          "base_uri": "https://localhost:8080/",
          "height": 38
        },
        "id": "BjVgSngwb36x",
        "outputId": "8e53a7ca-3f65-4ae9-935b-71c2ec7606dd"
      },
      "source": [
        "pi**2"
      ],
      "execution_count": 2,
      "outputs": [
        {
          "output_type": "execute_result",
          "data": {
            "text/latex": "$\\displaystyle \\pi^{2}$",
            "text/plain": [
              "pi**2"
            ]
          },
          "metadata": {},
          "execution_count": 2
        }
      ]
    },
    {
      "cell_type": "code",
      "metadata": {
        "colab": {
          "base_uri": "https://localhost:8080/",
          "height": 37
        },
        "id": "6Os0YP2zb__W",
        "outputId": "98426538-4a9b-44f9-e302-42960fd75446"
      },
      "source": [
        "pi.evalf()"
      ],
      "execution_count": 3,
      "outputs": [
        {
          "output_type": "execute_result",
          "data": {
            "text/latex": "$\\displaystyle 3.14159265358979$",
            "text/plain": [
              "3.14159265358979"
            ]
          },
          "metadata": {},
          "execution_count": 3
        }
      ]
    },
    {
      "cell_type": "code",
      "metadata": {
        "colab": {
          "base_uri": "https://localhost:8080/",
          "height": 37
        },
        "id": "cTM49OCUcn4y",
        "outputId": "b84fc35b-1fb9-4823-ffd7-a80ce739b869"
      },
      "source": [
        "sqrt(64)"
      ],
      "execution_count": 12,
      "outputs": [
        {
          "output_type": "execute_result",
          "data": {
            "text/latex": "$\\displaystyle 8$",
            "text/plain": [
              "8"
            ]
          },
          "metadata": {},
          "execution_count": 12
        }
      ]
    },
    {
      "cell_type": "code",
      "metadata": {
        "colab": {
          "base_uri": "https://localhost:8080/",
          "height": 37
        },
        "id": "LnKL5AEAb_80",
        "outputId": "b417e015-6824-4f62-c352-d41f55596749"
      },
      "source": [
        "oo\n"
      ],
      "execution_count": 5,
      "outputs": [
        {
          "output_type": "execute_result",
          "data": {
            "text/latex": "$\\displaystyle \\infty$",
            "text/plain": [
              "oo"
            ]
          },
          "metadata": {},
          "execution_count": 5
        }
      ]
    },
    {
      "cell_type": "code",
      "metadata": {
        "id": "ExMZFeoob_5r"
      },
      "source": [
        "Calcular la raiz de 2 con 10 decimales"
      ],
      "execution_count": null,
      "outputs": []
    },
    {
      "cell_type": "code",
      "metadata": {
        "colab": {
          "base_uri": "https://localhost:8080/",
          "height": 37
        },
        "id": "52ztdZE7b_0S",
        "outputId": "078e610f-afbd-4cd2-bde8-57796e64e026"
      },
      "source": [
        "sqrt(2).evalf(90)"
      ],
      "execution_count": 75,
      "outputs": [
        {
          "output_type": "execute_result",
          "data": {
            "text/latex": "$\\displaystyle 1.41421356237309504880168872420969807856967187537694807317667973799073247846210703885038753$",
            "text/plain": [
              "1.41421356237309504880168872420969807856967187537694807317667973799073247846210703885038753"
            ]
          },
          "metadata": {},
          "execution_count": 75
        }
      ]
    },
    {
      "cell_type": "code",
      "metadata": {
        "colab": {
          "base_uri": "https://localhost:8080/",
          "height": 38
        },
        "id": "I-r0aYAahp9Y",
        "outputId": "2621dc6c-080c-4034-8ad8-f8cfc812e467"
      },
      "source": [
        "x**2"
      ],
      "execution_count": null,
      "outputs": [
        {
          "output_type": "execute_result",
          "data": {
            "text/latex": "$\\displaystyle x^{2}$",
            "text/plain": [
              "x**2"
            ]
          },
          "metadata": {},
          "execution_count": 13
        }
      ]
    },
    {
      "cell_type": "code",
      "metadata": {
        "colab": {
          "base_uri": "https://localhost:8080/",
          "height": 38
        },
        "id": "EuDEuIV6htam",
        "outputId": "53cd5a4c-6d79-4d4b-9c1e-ec78689bb28e"
      },
      "source": [
        "x+x"
      ],
      "execution_count": null,
      "outputs": [
        {
          "output_type": "execute_result",
          "data": {
            "text/latex": "$\\displaystyle 2 x$",
            "text/plain": [
              "2*x"
            ]
          },
          "metadata": {},
          "execution_count": 14
        }
      ]
    },
    {
      "cell_type": "code",
      "metadata": {
        "id": "SlcVx4DFUa5I"
      },
      "source": [
        "\n",
        "f = x**2 + 5*x +6"
      ],
      "execution_count": 15,
      "outputs": []
    },
    {
      "cell_type": "code",
      "metadata": {
        "colab": {
          "base_uri": "https://localhost:8080/",
          "height": 38
        },
        "id": "cFLan2LCh0BZ",
        "outputId": "5d27468d-95d1-47a4-aec0-92f6bd1e6939"
      },
      "source": [
        "f"
      ],
      "execution_count": 16,
      "outputs": [
        {
          "output_type": "execute_result",
          "data": {
            "text/latex": "$\\displaystyle x^{2} + 5 x + 6$",
            "text/plain": [
              "x**2 + 5*x + 6"
            ]
          },
          "metadata": {},
          "execution_count": 16
        }
      ]
    },
    {
      "cell_type": "code",
      "metadata": {
        "colab": {
          "base_uri": "https://localhost:8080/"
        },
        "id": "Yam71Glih1NX",
        "outputId": "936082d8-7af7-42b4-ba49-fd508c57f921"
      },
      "source": [
        "solve(f)"
      ],
      "execution_count": 17,
      "outputs": [
        {
          "output_type": "execute_result",
          "data": {
            "text/plain": [
              "[-3, -2]"
            ]
          },
          "metadata": {},
          "execution_count": 17
        }
      ]
    },
    {
      "cell_type": "code",
      "metadata": {
        "colab": {
          "base_uri": "https://localhost:8080/",
          "height": 38
        },
        "id": "yzuF-2skiGev",
        "outputId": "a9d0bc58-0b99-4f44-bdb3-fa02cd632bf4"
      },
      "source": [
        "factor(f)"
      ],
      "execution_count": 18,
      "outputs": [
        {
          "output_type": "execute_result",
          "data": {
            "text/latex": "$\\displaystyle \\left(x + 2\\right) \\left(x + 3\\right)$",
            "text/plain": [
              "(x + 2)*(x + 3)"
            ]
          },
          "metadata": {},
          "execution_count": 18
        }
      ]
    },
    {
      "cell_type": "code",
      "metadata": {
        "colab": {
          "base_uri": "https://localhost:8080/",
          "height": 37
        },
        "id": "Evn3NQ7kiJD_",
        "outputId": "dd9bda4b-20ff-40bd-8632-3eb7d91a0b9a"
      },
      "source": [
        "degree(f)  #el grado de la funcion "
      ],
      "execution_count": 19,
      "outputs": [
        {
          "output_type": "execute_result",
          "data": {
            "text/latex": "$\\displaystyle 2$",
            "text/plain": [
              "2"
            ]
          },
          "metadata": {},
          "execution_count": 19
        }
      ]
    },
    {
      "cell_type": "code",
      "metadata": {
        "id": "1OLNVXmdiL3n"
      },
      "source": [
        "g = x**3 + 2*x**2 + 10"
      ],
      "execution_count": 20,
      "outputs": []
    },
    {
      "cell_type": "code",
      "metadata": {
        "colab": {
          "base_uri": "https://localhost:8080/",
          "height": 38
        },
        "id": "tYpRobOE2r5R",
        "outputId": "34f2ce22-68d8-4b48-f142-b2a18a3ed2c1"
      },
      "source": [
        "g"
      ],
      "execution_count": 21,
      "outputs": [
        {
          "output_type": "execute_result",
          "data": {
            "text/latex": "$\\displaystyle x^{3} + 2 x^{2} + 10$",
            "text/plain": [
              "x**3 + 2*x**2 + 10"
            ]
          },
          "metadata": {},
          "execution_count": 21
        }
      ]
    },
    {
      "cell_type": "code",
      "metadata": {
        "colab": {
          "base_uri": "https://localhost:8080/",
          "height": 38
        },
        "id": "qg1dFWZjiOjZ",
        "outputId": "c5e8d6d7-d66a-4af4-f014-93a91a567611"
      },
      "source": [
        "f+g"
      ],
      "execution_count": 22,
      "outputs": [
        {
          "output_type": "execute_result",
          "data": {
            "text/latex": "$\\displaystyle x^{3} + 3 x^{2} + 5 x + 16$",
            "text/plain": [
              "x**3 + 3*x**2 + 5*x + 16"
            ]
          },
          "metadata": {},
          "execution_count": 22
        }
      ]
    },
    {
      "cell_type": "markdown",
      "metadata": {
        "id": "yHzaJpcGiSVw"
      },
      "source": [
        "# para un solo simbolo se usa Symbol y para varios symbols"
      ]
    },
    {
      "cell_type": "code",
      "metadata": {
        "colab": {
          "base_uri": "https://localhost:8080/",
          "height": 54
        },
        "id": "Ora3uOvIUdN1",
        "outputId": "93de9760-c4f0-4ba7-f1c5-7d985c0b2ee8"
      },
      "source": [
        "\n",
        "integrate(f,x)"
      ],
      "execution_count": 23,
      "outputs": [
        {
          "output_type": "execute_result",
          "data": {
            "text/latex": "$\\displaystyle \\frac{x^{3}}{3} + \\frac{5 x^{2}}{2} + 6 x$",
            "text/plain": [
              "x**3/3 + 5*x**2/2 + 6*x"
            ]
          },
          "metadata": {},
          "execution_count": 23
        }
      ]
    },
    {
      "cell_type": "code",
      "metadata": {
        "id": "Df-U7OLdUrRW"
      },
      "source": [
        "x,y,z=symbols([\"x\",\"y\",\"z\"])"
      ],
      "execution_count": 77,
      "outputs": []
    },
    {
      "cell_type": "code",
      "metadata": {
        "id": "j9lpals7Uzoq"
      },
      "source": [
        "f=x**2+3*x+4*x*y"
      ],
      "execution_count": 25,
      "outputs": []
    },
    {
      "cell_type": "code",
      "metadata": {
        "colab": {
          "base_uri": "https://localhost:8080/",
          "height": 38
        },
        "id": "lIsolkOVU3Il",
        "outputId": "7f8b1099-c0c3-4463-9da8-ec9e7365b5fc"
      },
      "source": [
        "f"
      ],
      "execution_count": 26,
      "outputs": [
        {
          "output_type": "execute_result",
          "data": {
            "text/latex": "$\\displaystyle x^{2} + 4 x y + 3 x$",
            "text/plain": [
              "x**2 + 4*x*y + 3*x"
            ]
          },
          "metadata": {},
          "execution_count": 26
        }
      ]
    },
    {
      "cell_type": "code",
      "metadata": {
        "colab": {
          "base_uri": "https://localhost:8080/",
          "height": 38
        },
        "id": "y5T3gPNqU6Oz",
        "outputId": "1c209656-1f3e-4864-cbb1-7f6be729ecde"
      },
      "source": [
        "integrate(f,y)"
      ],
      "execution_count": 27,
      "outputs": [
        {
          "output_type": "execute_result",
          "data": {
            "text/latex": "$\\displaystyle 2 x y^{2} + y \\left(x^{2} + 3 x\\right)$",
            "text/plain": [
              "2*x*y**2 + y*(x**2 + 3*x)"
            ]
          },
          "metadata": {},
          "execution_count": 27
        }
      ]
    },
    {
      "cell_type": "code",
      "metadata": {
        "colab": {
          "base_uri": "https://localhost:8080/",
          "height": 38
        },
        "id": "oSpkG9Iz3LS5",
        "outputId": "d92679cb-0f76-4dce-e75f-cfe3d0de4d5a"
      },
      "source": [
        "\n",
        "diff(x*3**y*x,x)"
      ],
      "execution_count": 79,
      "outputs": [
        {
          "output_type": "execute_result",
          "data": {
            "text/latex": "$\\displaystyle 2 \\cdot 3^{y} x$",
            "text/plain": [
              "2*3**y*x"
            ]
          },
          "metadata": {},
          "execution_count": 79
        }
      ]
    },
    {
      "cell_type": "code",
      "metadata": {
        "colab": {
          "base_uri": "https://localhost:8080/",
          "height": 38
        },
        "id": "wBhrIlBidPZd",
        "outputId": "21c63d3a-59ce-4ee1-ccb7-3fc79ab4e555"
      },
      "source": [
        "expand((x+y)**3)"
      ],
      "execution_count": 29,
      "outputs": [
        {
          "output_type": "execute_result",
          "data": {
            "text/latex": "$\\displaystyle x^{3} + 3 x^{2} y + 3 x y^{2} + y^{3}$",
            "text/plain": [
              "x**3 + 3*x**2*y + 3*x*y**2 + y**3"
            ]
          },
          "metadata": {},
          "execution_count": 29
        }
      ]
    },
    {
      "cell_type": "code",
      "metadata": {
        "colab": {
          "base_uri": "https://localhost:8080/",
          "height": 38
        },
        "id": "h90d6UpzdPVo",
        "outputId": "ffaa61c8-50b2-429d-de4e-3e076cdcec9e"
      },
      "source": [
        "simplify((x+x*y)/x) #simplificación de exponentes"
      ],
      "execution_count": 30,
      "outputs": [
        {
          "output_type": "execute_result",
          "data": {
            "text/latex": "$\\displaystyle y + 1$",
            "text/plain": [
              "y + 1"
            ]
          },
          "metadata": {},
          "execution_count": 30
        }
      ]
    },
    {
      "cell_type": "code",
      "metadata": {
        "colab": {
          "base_uri": "https://localhost:8080/",
          "height": 38
        },
        "id": "7SGVvjUQdPSN",
        "outputId": "de253019-5228-41fa-d2f7-6a42aaa76737"
      },
      "source": [
        "trigsimp( sin(x) / cos(x))"
      ],
      "execution_count": 31,
      "outputs": [
        {
          "output_type": "execute_result",
          "data": {
            "text/latex": "$\\displaystyle \\tan{\\left(x \\right)}$",
            "text/plain": [
              "tan(x)"
            ]
          },
          "metadata": {},
          "execution_count": 31
        }
      ]
    },
    {
      "cell_type": "code",
      "metadata": {
        "colab": {
          "base_uri": "https://localhost:8080/",
          "height": 38
        },
        "id": "iVwAOqkudPOz",
        "outputId": "bb3fc743-db5a-45fa-dcde-30a4128cd305"
      },
      "source": [
        "logcombine(ln(x)-ln(1-x))"
      ],
      "execution_count": 36,
      "outputs": [
        {
          "output_type": "execute_result",
          "data": {
            "text/latex": "$\\displaystyle \\log{\\left(x \\right)} - \\log{\\left(1 - x \\right)}$",
            "text/plain": [
              "log(x) - log(1 - x)"
            ]
          },
          "metadata": {},
          "execution_count": 36
        }
      ]
    },
    {
      "cell_type": "code",
      "metadata": {
        "id": "iJWFlb5AdPLM"
      },
      "source": [
        "#Limites\n",
        "\n",
        "#limit(función, variable, punto)\n",
        "#calcular el límite de f(x) como x -> 0, deberías usar la siguiente expresión limit(f, x, 0)"
      ],
      "execution_count": 38,
      "outputs": []
    },
    {
      "cell_type": "code",
      "metadata": {
        "colab": {
          "base_uri": "https://localhost:8080/",
          "height": 37
        },
        "id": "N0Wh2km2dPHG",
        "outputId": "5f270c34-0873-4d8f-e100-ae62d5db687f"
      },
      "source": [
        "limit(sin(x)/x, x, 0)"
      ],
      "execution_count": 39,
      "outputs": [
        {
          "output_type": "execute_result",
          "data": {
            "text/latex": "$\\displaystyle 1$",
            "text/plain": [
              "1"
            ]
          },
          "metadata": {},
          "execution_count": 39
        }
      ]
    },
    {
      "cell_type": "code",
      "metadata": {
        "colab": {
          "base_uri": "https://localhost:8080/",
          "height": 37
        },
        "id": "_4lm1eIcdPED",
        "outputId": "0b2ef8aa-8016-4cab-d0af-90db8ca44c40"
      },
      "source": [
        "limit(x, x, oo)"
      ],
      "execution_count": 40,
      "outputs": [
        {
          "output_type": "execute_result",
          "data": {
            "text/latex": "$\\displaystyle \\infty$",
            "text/plain": [
              "oo"
            ]
          },
          "metadata": {},
          "execution_count": 40
        }
      ]
    },
    {
      "cell_type": "code",
      "metadata": {
        "colab": {
          "base_uri": "https://localhost:8080/",
          "height": 38
        },
        "id": "r2Fm6QU_dO3e",
        "outputId": "ad270cd8-e1fe-46fe-b538-d6ee8ca4dd5d"
      },
      "source": [
        "diff(sin(x), x)"
      ],
      "execution_count": 41,
      "outputs": [
        {
          "output_type": "execute_result",
          "data": {
            "text/latex": "$\\displaystyle \\cos{\\left(x \\right)}$",
            "text/plain": [
              "cos(x)"
            ]
          },
          "metadata": {},
          "execution_count": 41
        }
      ]
    },
    {
      "cell_type": "code",
      "metadata": {
        "colab": {
          "base_uri": "https://localhost:8080/",
          "height": 38
        },
        "id": "gHBaVnCue_Lv",
        "outputId": "ed94beb6-0d6d-4b5d-f3c8-94ef2cd7c2e6"
      },
      "source": [
        "integrate(sin(x), x)"
      ],
      "execution_count": 42,
      "outputs": [
        {
          "output_type": "execute_result",
          "data": {
            "text/latex": "$\\displaystyle - \\cos{\\left(x \\right)}$",
            "text/plain": [
              "-cos(x)"
            ]
          },
          "metadata": {},
          "execution_count": 42
        }
      ]
    },
    {
      "cell_type": "code",
      "metadata": {
        "colab": {
          "base_uri": "https://localhost:8080/",
          "height": 38
        },
        "id": "n7zZCDDoe_HW",
        "outputId": "f72cde42-434d-42f3-a6e4-16a54ced355f"
      },
      "source": [
        "integrate(log(x), x)"
      ],
      "execution_count": 43,
      "outputs": [
        {
          "output_type": "execute_result",
          "data": {
            "text/latex": "$\\displaystyle x \\log{\\left(x \\right)} - x$",
            "text/plain": [
              "x*log(x) - x"
            ]
          },
          "metadata": {},
          "execution_count": 43
        }
      ]
    },
    {
      "cell_type": "code",
      "metadata": {
        "colab": {
          "base_uri": "https://localhost:8080/",
          "height": 58
        },
        "id": "T9XCqHQPe_CY",
        "outputId": "e65f5437-cb0d-47aa-c978-a638083e66e6"
      },
      "source": [
        "Matrix([[1,0], [0,1]])"
      ],
      "execution_count": 44,
      "outputs": [
        {
          "output_type": "execute_result",
          "data": {
            "text/latex": "$\\displaystyle \\left[\\begin{matrix}1 & 0\\\\0 & 1\\end{matrix}\\right]$",
            "text/plain": [
              "Matrix([\n",
              "[1, 0],\n",
              "[0, 1]])"
            ]
          },
          "metadata": {},
          "execution_count": 44
        }
      ]
    },
    {
      "cell_type": "code",
      "metadata": {
        "colab": {
          "base_uri": "https://localhost:8080/",
          "height": 58
        },
        "id": "HniJaioAe--Y",
        "outputId": "f66bcabb-c735-4300-a2da-7d0cabd14b2b"
      },
      "source": [
        "x = Symbol('x')\n",
        "y = Symbol('y')\n",
        "A = Matrix([[1,x], [y,1]])\n",
        "A"
      ],
      "execution_count": 54,
      "outputs": [
        {
          "output_type": "execute_result",
          "data": {
            "text/latex": "$\\displaystyle \\left[\\begin{matrix}1 & x\\\\y & 1\\end{matrix}\\right]$",
            "text/plain": [
              "Matrix([\n",
              "[1, x],\n",
              "[y, 1]])"
            ]
          },
          "metadata": {},
          "execution_count": 54
        }
      ]
    },
    {
      "cell_type": "code",
      "metadata": {
        "colab": {
          "base_uri": "https://localhost:8080/",
          "height": 78
        },
        "id": "pifROluYj_v7",
        "outputId": "ca795312-a69d-4a93-f31b-b7ee1b97382f"
      },
      "source": [
        "x = Symbol('x')\n",
        "M = eye(3) * x\n",
        "M"
      ],
      "execution_count": 66,
      "outputs": [
        {
          "output_type": "execute_result",
          "data": {
            "text/latex": "$\\displaystyle \\left[\\begin{matrix}x & 0 & 0\\\\0 & x & 0\\\\0 & 0 & x\\end{matrix}\\right]$",
            "text/plain": [
              "Matrix([\n",
              "[x, 0, 0],\n",
              "[0, x, 0],\n",
              "[0, 0, x]])"
            ]
          },
          "metadata": {},
          "execution_count": 66
        }
      ]
    },
    {
      "cell_type": "code",
      "metadata": {
        "colab": {
          "base_uri": "https://localhost:8080/",
          "height": 78
        },
        "id": "hRn6CL3uj7bj",
        "outputId": "b46f674a-cad2-48a5-a3d8-6bd216da6f4d"
      },
      "source": [
        " M.subs(x, 9)"
      ],
      "execution_count": 80,
      "outputs": [
        {
          "output_type": "execute_result",
          "data": {
            "text/latex": "$\\displaystyle \\left[\\begin{matrix}9 & 0 & 0\\\\0 & 9 & 0\\\\0 & 0 & 9\\end{matrix}\\right]$",
            "text/plain": [
              "Matrix([\n",
              "[9, 0, 0],\n",
              "[0, 9, 0],\n",
              "[0, 0, 9]])"
            ]
          },
          "metadata": {},
          "execution_count": 80
        }
      ]
    },
    {
      "cell_type": "code",
      "metadata": {
        "id": "2H0Q3dRckMOo"
      },
      "source": [
        "n= Matrix(( [1, 2, 3], [3, 6, 2], [2, 0, 1] ))"
      ],
      "execution_count": 81,
      "outputs": []
    },
    {
      "cell_type": "code",
      "metadata": {
        "colab": {
          "base_uri": "https://localhost:8080/",
          "height": 78
        },
        "id": "qGOXcxhprLMj",
        "outputId": "58109b60-8dba-4d83-fefe-d01f5ecd8ef7"
      },
      "source": [
        "n"
      ],
      "execution_count": 82,
      "outputs": [
        {
          "output_type": "execute_result",
          "data": {
            "text/latex": "$\\displaystyle \\left[\\begin{matrix}1 & 2 & 3\\\\3 & 6 & 2\\\\2 & 0 & 1\\end{matrix}\\right]$",
            "text/plain": [
              "Matrix([\n",
              "[1, 2, 3],\n",
              "[3, 6, 2],\n",
              "[2, 0, 1]])"
            ]
          },
          "metadata": {},
          "execution_count": 82
        }
      ]
    },
    {
      "cell_type": "code",
      "metadata": {
        "colab": {
          "base_uri": "https://localhost:8080/",
          "height": 37
        },
        "id": "3N5Ve9Y6kMLS",
        "outputId": "b108bb93-26bf-4a80-8a04-584d050f4933"
      },
      "source": [
        "n.det()"
      ],
      "execution_count": 69,
      "outputs": [
        {
          "output_type": "execute_result",
          "data": {
            "text/latex": "$\\displaystyle -28$",
            "text/plain": [
              "-28"
            ]
          },
          "metadata": {},
          "execution_count": 69
        }
      ]
    },
    {
      "cell_type": "code",
      "metadata": {
        "colab": {
          "base_uri": "https://localhost:8080/",
          "height": 78
        },
        "id": "8_xJtis6kMG5",
        "outputId": "1b6fdeb1-a7dc-4a98-a2d4-e9ad3142839b"
      },
      "source": [
        "M.inv()"
      ],
      "execution_count": 70,
      "outputs": [
        {
          "output_type": "execute_result",
          "data": {
            "text/latex": "$\\displaystyle \\left[\\begin{matrix}\\frac{1}{x} & 0 & 0\\\\0 & \\frac{1}{x} & 0\\\\0 & 0 & \\frac{1}{x}\\end{matrix}\\right]$",
            "text/plain": [
              "Matrix([\n",
              "[1/x,   0,   0],\n",
              "[  0, 1/x,   0],\n",
              "[  0,   0, 1/x]])"
            ]
          },
          "metadata": {},
          "execution_count": 70
        }
      ]
    },
    {
      "cell_type": "code",
      "metadata": {
        "colab": {
          "base_uri": "https://localhost:8080/",
          "height": 78
        },
        "id": "NZQDKi5wkVXo",
        "outputId": "a316da34-fc78-41ca-b472-a974c9c17ac3"
      },
      "source": [
        "n[1,2]=x\n",
        "n[2,1] = 2*x\n",
        "n[1,1] = sqrt(x)\n",
        "n"
      ],
      "execution_count": 72,
      "outputs": [
        {
          "output_type": "execute_result",
          "data": {
            "text/latex": "$\\displaystyle \\left[\\begin{matrix}1 & 2 & 3\\\\3 & \\sqrt{x} & x\\\\2 & 2 x & 1\\end{matrix}\\right]$",
            "text/plain": [
              "Matrix([\n",
              "[1,       2, 3],\n",
              "[3, sqrt(x), x],\n",
              "[2,     2*x, 1]])"
            ]
          },
          "metadata": {},
          "execution_count": 72
        }
      ]
    },
    {
      "cell_type": "code",
      "metadata": {
        "colab": {
          "base_uri": "https://localhost:8080/",
          "height": 55
        },
        "id": "0VQ-tMtte-7V",
        "outputId": "27b594d2-3420-4816-98dd-610ed0acd188"
      },
      "source": [
        "1/( (x+2)*(x+1) )"
      ],
      "execution_count": 59,
      "outputs": [
        {
          "output_type": "execute_result",
          "data": {
            "text/latex": "$\\displaystyle \\frac{1}{\\left(x + 1\\right) \\left(x + 2\\right)}$",
            "text/plain": [
              "1/((x + 1)*(x + 2))"
            ]
          },
          "metadata": {},
          "execution_count": 59
        }
      ]
    },
    {
      "cell_type": "code",
      "metadata": {
        "colab": {
          "base_uri": "https://localhost:8080/",
          "height": 52
        },
        "id": "iMvrQg-He-4O",
        "outputId": "70ae1680-7b32-4735-a79c-8cb4cb431f69"
      },
      "source": [
        "apart(1/( (x+2)*(x+1) ), x)"
      ],
      "execution_count": 61,
      "outputs": [
        {
          "output_type": "execute_result",
          "data": {
            "text/latex": "$\\displaystyle - \\frac{1}{x + 2} + \\frac{1}{x + 1}$",
            "text/plain": [
              "-1/(x + 2) + 1/(x + 1)"
            ]
          },
          "metadata": {},
          "execution_count": 61
        }
      ]
    },
    {
      "cell_type": "code",
      "metadata": {
        "colab": {
          "base_uri": "https://localhost:8080/",
          "height": 38
        },
        "id": "rGcINGUye-1F",
        "outputId": "9c701f03-0905-4993-970a-efcaf1ce58eb"
      },
      "source": [
        "diff(sin(2*x), x, 1) #derivada de 1er orden"
      ],
      "execution_count": 62,
      "outputs": [
        {
          "output_type": "execute_result",
          "data": {
            "text/latex": "$\\displaystyle 2 \\cos{\\left(2 x \\right)}$",
            "text/plain": [
              "2*cos(2*x)"
            ]
          },
          "metadata": {},
          "execution_count": 62
        }
      ]
    },
    {
      "cell_type": "code",
      "metadata": {
        "colab": {
          "base_uri": "https://localhost:8080/",
          "height": 38
        },
        "id": "v6VAf4hhe-x9",
        "outputId": "2b825a12-0ef1-49ce-929d-006edee7546c"
      },
      "source": [
        "diff(sin(2*x), x, 2)"
      ],
      "execution_count": 63,
      "outputs": [
        {
          "output_type": "execute_result",
          "data": {
            "text/latex": "$\\displaystyle - 4 \\sin{\\left(2 x \\right)}$",
            "text/plain": [
              "-4*sin(2*x)"
            ]
          },
          "metadata": {},
          "execution_count": 63
        }
      ]
    },
    {
      "cell_type": "code",
      "metadata": {
        "colab": {
          "base_uri": "https://localhost:8080/",
          "height": 38
        },
        "id": "YlL-v5INe-uD",
        "outputId": "30e13d54-c72e-4bfe-fbf5-91018e84cd2d"
      },
      "source": [
        "diff(sin(2*x), x, 3) "
      ],
      "execution_count": 64,
      "outputs": [
        {
          "output_type": "execute_result",
          "data": {
            "text/latex": "$\\displaystyle - 8 \\cos{\\left(2 x \\right)}$",
            "text/plain": [
              "-8*cos(2*x)"
            ]
          },
          "metadata": {},
          "execution_count": 64
        }
      ]
    },
    {
      "cell_type": "code",
      "metadata": {
        "id": "BimUyPaNjdqL"
      },
      "source": [
        ""
      ],
      "execution_count": null,
      "outputs": []
    },
    {
      "cell_type": "code",
      "metadata": {
        "id": "qPTa54JZjdmS"
      },
      "source": [
        ""
      ],
      "execution_count": null,
      "outputs": []
    },
    {
      "cell_type": "markdown",
      "metadata": {
        "id": "iVtK_Kk4OYSC"
      },
      "source": [
        "\n",
        "Atrapar errores\n",
        "\n",
        "try:\n",
        "\n",
        "except:"
      ]
    },
    {
      "cell_type": "code",
      "metadata": {
        "id": "F-cRpxWTOWGS"
      },
      "source": [
        "def dividir(a,b):\n",
        "  try:\n",
        "    print(a/b)\n",
        "  except ZeroDivisionError:\n",
        "    print('Error')\n",
        "    print('-------')\n",
        "    print('El segundo elemento no puede ser cero.')\n",
        "  except TypeError:\n",
        "    print('Error')\n",
        "    print('-------')\n",
        "    print('Ambos elementos deben ser números.')\n",
        "  print('División realizada')"
      ],
      "execution_count": null,
      "outputs": []
    },
    {
      "cell_type": "code",
      "metadata": {
        "colab": {
          "base_uri": "https://localhost:8080/"
        },
        "id": "dXcSMF1-OdXi",
        "outputId": "0c99187f-ae30-4ce1-fffb-3a9620e22da4"
      },
      "source": [
        "dividir(4,2)"
      ],
      "execution_count": null,
      "outputs": [
        {
          "output_type": "stream",
          "name": "stdout",
          "text": [
            "2.0\n",
            "División realizada\n"
          ]
        }
      ]
    },
    {
      "cell_type": "code",
      "metadata": {
        "colab": {
          "base_uri": "https://localhost:8080/"
        },
        "id": "ZCowhhrrOf3y",
        "outputId": "563ced91-164c-41ae-878e-0d13c510400a"
      },
      "source": [
        "dividir(2,0)"
      ],
      "execution_count": null,
      "outputs": [
        {
          "output_type": "stream",
          "name": "stdout",
          "text": [
            "Error\n",
            "-------\n",
            "El segundo elemento no puede ser cero.\n",
            "División realizada\n"
          ]
        }
      ]
    },
    {
      "cell_type": "code",
      "metadata": {
        "colab": {
          "base_uri": "https://localhost:8080/"
        },
        "id": "-IuR9V3AOhTD",
        "outputId": "ca16b443-7008-4ecb-9bef-9734878a8404"
      },
      "source": [
        "dividir(120,60)"
      ],
      "execution_count": null,
      "outputs": [
        {
          "output_type": "stream",
          "text": [
            "2.0\n",
            "División realizada\n"
          ],
          "name": "stdout"
        }
      ]
    },
    {
      "cell_type": "code",
      "metadata": {
        "colab": {
          "base_uri": "https://localhost:8080/"
        },
        "id": "XdT6Bl0rOlfC",
        "outputId": "33cb11aa-69a3-46fc-9df8-d6abf99b307b"
      },
      "source": [
        "dividir('u',0)"
      ],
      "execution_count": null,
      "outputs": [
        {
          "output_type": "stream",
          "text": [
            "Error\n",
            "-------\n",
            "Ambos elementos deben ser números.\n",
            "División realizada\n"
          ],
          "name": "stdout"
        }
      ]
    },
    {
      "cell_type": "code",
      "metadata": {
        "id": "z9h3fHxmOnLK"
      },
      "source": [
        "import math as mt"
      ],
      "execution_count": null,
      "outputs": []
    },
    {
      "cell_type": "code",
      "metadata": {
        "colab": {
          "base_uri": "https://localhost:8080/"
        },
        "id": "ct3_5SNtOovi",
        "outputId": "aa64118b-47f5-4243-e663-ecbe66fe6b3a"
      },
      "source": [
        "mt.sqrt(64)"
      ],
      "execution_count": null,
      "outputs": [
        {
          "output_type": "execute_result",
          "data": {
            "text/plain": [
              "8.0"
            ]
          },
          "metadata": {
            "tags": []
          },
          "execution_count": 125
        }
      ]
    },
    {
      "cell_type": "code",
      "metadata": {
        "id": "pVpCb3cvOqb6"
      },
      "source": [
        "import statistics as st"
      ],
      "execution_count": null,
      "outputs": []
    },
    {
      "cell_type": "code",
      "metadata": {
        "id": "UQDqvB75Orya"
      },
      "source": [
        "lista = [1,23,4,5,6,7,6,5,4,34,5,6,7,8,34,23,21,45]"
      ],
      "execution_count": null,
      "outputs": []
    },
    {
      "cell_type": "code",
      "metadata": {
        "colab": {
          "base_uri": "https://localhost:8080/"
        },
        "id": "BAGfbuaTOta6",
        "outputId": "4fa2154d-ea47-4654-c075-ac10b4ccc703"
      },
      "source": [
        "st.mean(lista)"
      ],
      "execution_count": null,
      "outputs": [
        {
          "output_type": "execute_result",
          "data": {
            "text/plain": [
              "13.555555555555555"
            ]
          },
          "metadata": {
            "tags": []
          },
          "execution_count": 128
        }
      ]
    },
    {
      "cell_type": "code",
      "metadata": {
        "colab": {
          "base_uri": "https://localhost:8080/"
        },
        "id": "5EJV5f3eOu1i",
        "outputId": "df21a7b4-8a82-42d6-bdd0-c33936fcad4d"
      },
      "source": [
        "st.stdev(lista)"
      ],
      "execution_count": null,
      "outputs": [
        {
          "output_type": "execute_result",
          "data": {
            "text/plain": [
              "13.075447229882345"
            ]
          },
          "metadata": {
            "tags": []
          },
          "execution_count": 129
        }
      ]
    },
    {
      "cell_type": "code",
      "metadata": {
        "colab": {
          "base_uri": "https://localhost:8080/"
        },
        "id": "WedjCuAcOwjy",
        "outputId": "ce2e4a86-2e6c-42af-a2f2-33b2ee38b822"
      },
      "source": [
        "st.variance(lista)"
      ],
      "execution_count": null,
      "outputs": [
        {
          "output_type": "execute_result",
          "data": {
            "text/plain": [
              "170.9673202614379"
            ]
          },
          "metadata": {
            "tags": []
          },
          "execution_count": 130
        }
      ]
    },
    {
      "cell_type": "markdown",
      "metadata": {
        "id": "HtcFzY9TK5GU"
      },
      "source": [
        "**MONITORIA 3**\n",
        "\n",
        "---\n",
        "\n",
        "\n",
        "\n",
        "---\n",
        "\n"
      ]
    },
    {
      "cell_type": "markdown",
      "metadata": {
        "id": "Eq2s7cJYANo1"
      },
      "source": [
        "NUMPY\n",
        "\n",
        "Numpy es una librería de Python especializada en el cálculo numérico y el análisis de datos, especialmente para un gran volumen de datos. Incorpora una nueva clase de objetos llamados arrays.\n",
        "\n",
        "Arrays  es una estructura de datos de un mismo tipo organizada en forma de tabla o cuadrícula de distintas dimensiones.\n",
        "\n",
        "Numpy es una librería para realizar cálculo numérico en python. La usaremos principalmente porque nos permite crear y modificar matrices, y hacer operaciones sobre ellas con facilidad.\n",
        "\n",
        "Para comenzar a usar numpy, debemos importar la librería. En este caso la vamos a importar, y darle un sobrenombre al mismo tiempo, np, para que el código sea más legible\n",
        "\n",
        "np.array(lista) : Crea un array a partir de la lista o tupla lista y\n",
        "devuelve una referencia a él. El número de dimensiones del array dependerá de las listas o tuplas anidadas en lista:"
      ]
    },
    {
      "cell_type": "code",
      "metadata": {
        "id": "2h1t9T4VOx9S"
      },
      "source": [
        "# importamos la librería numpy, y le damos como nombre np dentro del programa\n",
        "import numpy as np\n"
      ],
      "execution_count": 84,
      "outputs": []
    },
    {
      "cell_type": "code",
      "metadata": {
        "id": "kj0JruY3BYPI",
        "colab": {
          "base_uri": "https://localhost:8080/"
        },
        "outputId": "23ff4d88-04bd-47f1-f894-0d74c66a123b"
      },
      "source": [
        "lista=[25,12,15,66,12.5]\n",
        "vector=np.array(lista)\n",
        "print(vector)"
      ],
      "execution_count": 85,
      "outputs": [
        {
          "output_type": "stream",
          "name": "stdout",
          "text": [
            "[25.  12.  15.  66.  12.5]\n"
          ]
        }
      ]
    },
    {
      "cell_type": "markdown",
      "metadata": {
        "id": "EvjELq6mF-E-"
      },
      "source": [
        "¿Cuál es la diferencia entre vector y lista? Que vector, al ser un arreglo de numpy, nos permite hacer varias operaciones matemáticas de forma muy simple."
      ]
    },
    {
      "cell_type": "code",
      "metadata": {
        "colab": {
          "base_uri": "https://localhost:8080/"
        },
        "id": "Ylh7_IiKFfY_",
        "outputId": "971770c1-b6b1-4b58-fa15-af7233daf9db"
      },
      "source": [
        "print(\"- vector original\")\n",
        "print(vector)\n",
        "\n",
        "print(\"- sumarle 1 a cada elemento del vector:\")\n",
        "print(vector+1)\n",
        "print(\"- multiplicar por 5 cada elemento del vector:\")\n",
        "print(vector*5)\n",
        "\n",
        "print(\"- suma de los elementos:\")\n",
        "print(np.sum(vector))\n",
        "\n",
        "print(\"- promedio (media) de los elementos:\")\n",
        "print(np.mean(vector)) # \n",
        "\n",
        "print(\"- el vector sumado a si mismo:\")\n",
        "print(vector+vector)\n",
        "print(\"- suma de vectores vector1 y vector2 (mismo tamaño):\")\n",
        "vector2=np.array([11,55,1.2,7.4,-8])\n",
        "print(vector+vector2)"
      ],
      "execution_count": 86,
      "outputs": [
        {
          "output_type": "stream",
          "name": "stdout",
          "text": [
            "- vector original\n",
            "[25.  12.  15.  66.  12.5]\n",
            "- sumarle 1 a cada elemento del vector:\n",
            "[26.  13.  16.  67.  13.5]\n",
            "- multiplicar por 5 cada elemento del vector:\n",
            "[125.   60.   75.  330.   62.5]\n",
            "- suma de los elementos:\n",
            "130.5\n",
            "- promedio (media) de los elementos:\n",
            "26.1\n",
            "- el vector sumado a si mismo:\n",
            "[ 50.  24.  30. 132.  25.]\n",
            "- suma de vectores vector1 y vector2 (mismo tamaño):\n",
            "[36.  67.  16.2 73.4  4.5]\n"
          ]
        }
      ]
    },
    {
      "cell_type": "code",
      "metadata": {
        "colab": {
          "base_uri": "https://localhost:8080/"
        },
        "id": "fpJ5FsAjGBNI",
        "outputId": "1e1f86ba-1f5e-4e60-c895-25c2ed58d0c3"
      },
      "source": [
        "print(vector[3])\n",
        "print(vector[1:6])\n",
        "print(vector[1:])\n",
        "print(vector[:4])\n",
        "print(vector[:])"
      ],
      "execution_count": 93,
      "outputs": [
        {
          "output_type": "stream",
          "name": "stdout",
          "text": [
            "66.0\n",
            "[12.  15.  66.  12.5]\n",
            "[12.  15.  66.  12.5]\n",
            "[25. 12. 15. 66.]\n",
            "[25.  12.  15.  66.  12.5]\n"
          ]
        }
      ]
    },
    {
      "cell_type": "code",
      "metadata": {
        "colab": {
          "base_uri": "https://localhost:8080/"
        },
        "id": "jDOSszL9GYMO",
        "outputId": "af0a8023-a9d9-4247-85e5-3d1c8c330379"
      },
      "source": [
        "print(\"- Vector de ceros:\")\n",
        "vector_ceros=np.zeros(5)\n",
        "print(vector_ceros)\n",
        "\n",
        "print(\"- Vector de unos:\")\n",
        "vector_unos=np.ones(5)\n",
        "print(vector_unos)\n",
        "\n",
        "\n",
        "#Combinando este tipo de creaciones con las operaciones aritméticas,\n",
        "#podemos hacer varias inicializaciones muy rápidamente\n",
        "# Por ejemplo, para crear un vector cuyos valores iniciales son todos 2.\n",
        "\n",
        "print(\"- Vector con todos los elementos con valor 2:\")\n",
        "vector_dos=np.zeros(5)+2\n",
        "print(vector_dos)\n",
        "\n",
        "print(\"- Vector con todos los elementos con valor 2 (otra forma):\")\n",
        "vector_dos_otro=np.ones((5))*2\n",
        "print(vector_dos_otro)"
      ],
      "execution_count": null,
      "outputs": [
        {
          "output_type": "stream",
          "name": "stdout",
          "text": [
            "- Vector de ceros:\n",
            "[0. 0. 0. 0. 0.]\n",
            "- Vector de unos:\n",
            "[1. 1. 1. 1. 1.]\n",
            "- Vector con todos los elementos con valor 2:\n",
            "[2. 2. 2. 2. 2.]\n",
            "- Vector con todos los elementos con valor 2 (otra forma):\n",
            "[2. 2. 2. 2. 2.]\n"
          ]
        }
      ]
    },
    {
      "cell_type": "markdown",
      "metadata": {
        "id": "VBrwNBqLGqcm"
      },
      "source": [
        "Matrices\n",
        "Los vectores son arreglos de una sola dimensión. Las matrices son arreglos de dos dimensiones; generalmente a la primera dimensión se la llama la de las filas, mientras que a la otra se la llama la de las columnas.\n",
        "\n",
        "Por ende, para crearlas con np.array, necesitamos no una lista de valores, sino una lista de valores por cada fila, o sea, una lista de listas.\n",
        "\n",
        "Del mismo modo, para crearlas con np.zeros o np.ones, vamos a necesitar una tupla con dos elementos, uno por cada dimensión."
      ]
    },
    {
      "cell_type": "code",
      "metadata": {
        "colab": {
          "base_uri": "https://localhost:8080/"
        },
        "id": "8oXZam6lGhGu",
        "outputId": "45ffc055-a105-4e2b-868b-a7be889fcb15"
      },
      "source": [
        "print(\"- Matriz creada con una lista de listas:\")\n",
        "lista_de_listas=[ [1  ,-4], \n",
        "                  [12 , 3], \n",
        "                  [7.2, 5]]\n",
        "matriz = np.array(lista_de_listas)\n",
        "print(matriz)\n",
        "\n",
        "\n",
        "print(\"- Matriz creada con np.zeros:\")\n",
        "dimensiones=(2,3)\n",
        "matriz_ceros = np.zeros(dimensiones)\n",
        "print(matriz_ceros)\n",
        "\n",
        "\n",
        "print(\"- Matriz creada con np.ones:\")\n",
        "dimensiones=(3,2)\n",
        "matriz_unos = np.ones(dimensiones)\n",
        "print(matriz_unos)\n",
        "\n",
        "#también podemos usar np.copy para copiar una matriz \n",
        "print(\"- Copia de la matriz creada con np.ones:\")\n",
        "matriz_unos_copia=np.copy(matriz_unos)\n",
        "print(matriz_unos_copia)"
      ],
      "execution_count": null,
      "outputs": [
        {
          "output_type": "stream",
          "name": "stdout",
          "text": [
            "- Matriz creada con una lista de listas:\n",
            "[[ 1.  -4. ]\n",
            " [12.   3. ]\n",
            " [ 7.2  5. ]]\n",
            "- Matriz creada con np.zeros:\n",
            "[[0. 0. 0.]\n",
            " [0. 0. 0.]]\n",
            "- Matriz creada con np.ones:\n",
            "[[1. 1.]\n",
            " [1. 1.]\n",
            " [1. 1.]]\n",
            "- Copia de la matriz creada con np.ones:\n",
            "[[1. 1.]\n",
            " [1. 1.]\n",
            " [1. 1.]]\n"
          ]
        }
      ]
    },
    {
      "cell_type": "code",
      "metadata": {
        "colab": {
          "base_uri": "https://localhost:8080/"
        },
        "id": "tJwIpfAHIvgu",
        "outputId": "17ea3ec0-2abc-4a91-b2b9-df7a1a145416"
      },
      "source": [
        "a = np.array([1, 2, 3])\n",
        "\n",
        "newArray = np.append (a, [10, 11, 12])\n",
        "\n",
        "print(newArray)"
      ],
      "execution_count": null,
      "outputs": [
        {
          "output_type": "stream",
          "name": "stdout",
          "text": [
            "[ 1  2  3 10 11 12]\n"
          ]
        }
      ]
    },
    {
      "cell_type": "code",
      "metadata": {
        "colab": {
          "base_uri": "https://localhost:8080/"
        },
        "id": "gUb3Bj7LJSAA",
        "outputId": "51be1157-69e1-4c89-ef12-1d193b238491"
      },
      "source": [
        "a = np.array([[1, 2, 3], \n",
        "              [4, 5, 6]])\n",
        "\n",
        "b = np.array([[400], [800]])\n",
        "\n",
        "newArray = np.append(a, b, axis = 1)\n",
        "\n",
        "print(newArray)"
      ],
      "execution_count": null,
      "outputs": [
        {
          "output_type": "stream",
          "name": "stdout",
          "text": [
            "[[  1   2   3 400]\n",
            " [  4   5   6 800]]\n"
          ]
        }
      ]
    },
    {
      "cell_type": "code",
      "metadata": {
        "colab": {
          "base_uri": "https://localhost:8080/"
        },
        "id": "fb5xVR-lJ2dv",
        "outputId": "89e935bf-36d5-48e3-9655-800f0b581c8a"
      },
      "source": [
        "a = np.array([1, 2, 3])\n",
        "\n",
        "newarray = np.insert(a, 1, 90)\n",
        "\n",
        "print(newarray)"
      ],
      "execution_count": null,
      "outputs": [
        {
          "output_type": "stream",
          "name": "stdout",
          "text": [
            "[ 1 90  2  3]\n"
          ]
        }
      ]
    },
    {
      "cell_type": "code",
      "metadata": {
        "colab": {
          "base_uri": "https://localhost:8080/"
        },
        "id": "KkzZXtMBKE49",
        "outputId": "96a2d846-da24-4a05-dcdc-2c6049c0b804"
      },
      "source": [
        "a = np.array([[1, 2, 3], [4, 5, 6]])\n",
        "\n",
        "newarray = np.append(a, [[50, 60, 70]], axis = 0)\n",
        "\n",
        "print(newarray)"
      ],
      "execution_count": null,
      "outputs": [
        {
          "output_type": "stream",
          "name": "stdout",
          "text": [
            "[[ 1  2  3]\n",
            " [ 4  5  6]\n",
            " [50 60 70]]\n"
          ]
        }
      ]
    },
    {
      "cell_type": "code",
      "metadata": {
        "colab": {
          "base_uri": "https://localhost:8080/"
        },
        "id": "XYhfwdavRytv",
        "outputId": "e0766bb7-4176-4ce4-9ecc-af59adee7750"
      },
      "source": [
        "#Eliminar un elemento\n",
        "a = np.array([1, 2, 3])\n",
        "\n",
        "newarray = np.delete(a, 1, axis = 0)\n",
        "\n",
        "print(newarray)"
      ],
      "execution_count": null,
      "outputs": [
        {
          "output_type": "stream",
          "name": "stdout",
          "text": [
            "[1 3]\n"
          ]
        }
      ]
    },
    {
      "cell_type": "code",
      "metadata": {
        "colab": {
          "base_uri": "https://localhost:8080/"
        },
        "id": "VckQ1df1RySM",
        "outputId": "00f450ba-07a9-4f70-df78-fafd347e20fd"
      },
      "source": [
        "#Eliminar una fila \n",
        "a = np.array([[1, 2, 3], \n",
        "              [4, 5, 6], \n",
        "              [10, 20, 30]])\n",
        "\n",
        "newarray = np.delete(a, 1, axis = 0)\n",
        "\n",
        "print(newarray)"
      ],
      "execution_count": null,
      "outputs": [
        {
          "output_type": "stream",
          "name": "stdout",
          "text": [
            "[[ 1  2  3]\n",
            " [10 20 30]]\n"
          ]
        }
      ]
    },
    {
      "cell_type": "code",
      "metadata": {
        "colab": {
          "base_uri": "https://localhost:8080/"
        },
        "id": "UA-5pYAXRyPW",
        "outputId": "7f234ec5-e415-4953-f360-796ea429242e"
      },
      "source": [
        "# Comprobar si el arreglo NumPy está vacío\n",
        "#Podemos usar el método size que devuelve el número total de elementos en el arreglo.\n",
        "a = np.array([1, 2, 3])\n",
        "\n",
        "if(a.size == 0):\n",
        "\n",
        "    print(\"The given Array is empty\")\n",
        "\n",
        "else:\n",
        "\n",
        "    print(\"The array = \", a)"
      ],
      "execution_count": null,
      "outputs": [
        {
          "output_type": "stream",
          "name": "stdout",
          "text": [
            "The array =  [1 2 3]\n"
          ]
        }
      ]
    },
    {
      "cell_type": "code",
      "metadata": {
        "colab": {
          "base_uri": "https://localhost:8080/"
        },
        "id": "WYZSj6vVRx8J",
        "outputId": "1cb9ef50-00bc-48ac-d331-dfefe33b7a75"
      },
      "source": [
        "a = np.array([1, 2, 3, 4, 5])\n",
        "\n",
        "print(\"5 is found at index: \", np.where(a == 5))"
      ],
      "execution_count": null,
      "outputs": [
        {
          "output_type": "stream",
          "name": "stdout",
          "text": [
            "5 is found at index:  (array([4]),)\n"
          ]
        }
      ]
    },
    {
      "cell_type": "code",
      "metadata": {
        "colab": {
          "base_uri": "https://localhost:8080/"
        },
        "id": "zFOy7VTZRvwX",
        "outputId": "88e9358b-1c0f-4e08-b8cd-6838eb74173f"
      },
      "source": [
        "\n",
        "a = np.array([1, 2, 3, 4, 5])\n",
        "\n",
        "print(\"Array to list = \", a.tolist())"
      ],
      "execution_count": null,
      "outputs": [
        {
          "output_type": "stream",
          "name": "stdout",
          "text": [
            "Array to list =  [1, 2, 3, 4, 5]\n"
          ]
        }
      ]
    },
    {
      "cell_type": "code",
      "metadata": {
        "id": "yiLmJTTQUWy2"
      },
      "source": [
        ""
      ],
      "execution_count": null,
      "outputs": []
    },
    {
      "cell_type": "code",
      "metadata": {
        "colab": {
          "base_uri": "https://localhost:8080/"
        },
        "id": "CcyhYO3xGvPA",
        "outputId": "bd9d0d4d-4d1c-4d5e-e307-8997dbb77699"
      },
      "source": [
        "# Ejemplo\n",
        "# Crear una matriz de 4x9, que esté inicializada con el valor 0.5\n",
        "\n",
        "matriz=0 #IMPLEMENTAR\n",
        "\n",
        "print(matriz)"
      ],
      "execution_count": null,
      "outputs": [
        {
          "output_type": "stream",
          "name": "stdout",
          "text": [
            "0\n"
          ]
        }
      ]
    },
    {
      "cell_type": "code",
      "metadata": {
        "colab": {
          "base_uri": "https://localhost:8080/"
        },
        "id": "yi4Oz5oSGzdY",
        "outputId": "f064cab4-37c5-4563-bb55-24b829719713"
      },
      "source": [
        "lista_de_listas=[ [1  ,-4], \n",
        "                  [12 , 3], \n",
        "                  [7.2, 5]]\n",
        "a = np.array(lista_de_listas)\n",
        "\n",
        "print(\"Elementos individuales\")\n",
        "print(a[0,1])\n",
        "print(a[2,1])\n",
        "\n",
        "print(\"Vector de elementos de la fila 1\")\n",
        "print(a[1,:])\n",
        "\n",
        "print(\"Vector de elementos de la columna 0\")\n",
        "print(a[:,0])\n",
        "\n",
        "print(\"Submatriz de 2x2 con las primeras dos filas\")\n",
        "print(a[0:2,:])\n",
        "\n",
        "print(\"Submatriz de 2x2 con las ultimas dos filas\")\n",
        "print(a[1:3,:])"
      ],
      "execution_count": null,
      "outputs": [
        {
          "output_type": "stream",
          "name": "stdout",
          "text": [
            "Elementos individuales\n",
            "-4.0\n",
            "5.0\n",
            "Vector de elementos de la fila 1\n",
            "[12.  3.]\n",
            "Vector de elementos de la columna 0\n",
            "[ 1.  12.   7.2]\n",
            "Submatriz de 2x2 con las primeras dos filas\n",
            "[[ 1. -4.]\n",
            " [12.  3.]]\n",
            "Submatriz de 2x2 con las ultimas dos filas\n",
            "[[12.   3. ]\n",
            " [ 7.2  5. ]]\n"
          ]
        }
      ]
    },
    {
      "cell_type": "code",
      "metadata": {
        "colab": {
          "base_uri": "https://localhost:8080/"
        },
        "id": "fgMijr19G4e4",
        "outputId": "df33b792-ed24-4bb9-b2b7-aa1cfea61cbb"
      },
      "source": [
        "lista_de_listas=[ [1,-4], \n",
        "                  [12,3], \n",
        "                  [7, 5.0]]\n",
        "a = np.array(lista_de_listas)\n",
        "\n",
        "print(\"- Matriz original:\")\n",
        "print(a)\n",
        "\n",
        "print(\"- Le asignamos el valor 4 a los elementos de la columna 0:\")\n",
        "a[:,0]=4\n",
        "print(a)\n",
        "\n",
        "\n",
        "print(\"- Dividimos por 3 la columna 1:\")\n",
        "a[:,1]=a[:,1]/3.0\n",
        "print(a)\n",
        "\n",
        "print(\"- Multiplicamos por 5 la fila 1:\")\n",
        "a[1,:]=a[1,:]*5\n",
        "print(a)\n",
        "\n",
        "print(\"- Le sumamos 1 a toda la matriz:\")\n",
        "a=a+1\n",
        "print(a)"
      ],
      "execution_count": null,
      "outputs": [
        {
          "output_type": "stream",
          "name": "stdout",
          "text": [
            "- Matriz original:\n",
            "[[ 1. -4.]\n",
            " [12.  3.]\n",
            " [ 7.  5.]]\n",
            "- Le asignamos el valor 4 a los elementos de la columna 0:\n",
            "[[ 4. -4.]\n",
            " [ 4.  3.]\n",
            " [ 4.  5.]]\n",
            "- Dividimos por 3 la columna 1:\n",
            "[[ 4.         -1.33333333]\n",
            " [ 4.          1.        ]\n",
            " [ 4.          1.66666667]]\n",
            "- Multiplicamos por 5 la fila 1:\n",
            "[[ 4.         -1.33333333]\n",
            " [20.          5.        ]\n",
            " [ 4.          1.66666667]]\n",
            "- Le sumamos 1 a toda la matriz:\n",
            "[[ 5.         -0.33333333]\n",
            " [21.          6.        ]\n",
            " [ 5.          2.66666667]]\n"
          ]
        }
      ]
    },
    {
      "cell_type": "code",
      "metadata": {
        "colab": {
          "base_uri": "https://localhost:8080/"
        },
        "id": "ezppGnEGHjz6",
        "outputId": "29f2ddc8-0cf6-41ac-a665-aff06987c359"
      },
      "source": [
        "#Ejercicios\n",
        "\n",
        "lista_de_listas=[ [-44,12], \n",
        "                  [12.0,51], \n",
        "                  [1300, -5.0]]\n",
        "a = np.array(lista_de_listas)\n",
        "\n",
        "print(\"Matriz original\")\n",
        "print(a)\n",
        "\n",
        "\n",
        "# Restarle 5 a la fila 2 de la matriz\n",
        "#IMPLEMENTAR\n",
        "print(a)\n",
        "\n",
        "# Multiplicar por 2 toda la matriz\n",
        "#IMPLEMENTAR\n",
        "print(a)\n",
        "\n",
        "# Dividir por -5 las dos primeras filas de la matriz\n",
        "#IMPLEMENTAR\n",
        "print(a)\n",
        "\n",
        "\n",
        "#Imprimir la ultima fila de la matriz\n",
        "ultima_fila=0 # IMPLEMENTAR\n",
        "print(ultima_fila)"
      ],
      "execution_count": null,
      "outputs": [
        {
          "output_type": "stream",
          "name": "stdout",
          "text": [
            "Matriz original\n",
            "[[ -44.   12.]\n",
            " [  12.   51.]\n",
            " [1300.   -5.]]\n",
            "[[ -44.   12.]\n",
            " [  12.   51.]\n",
            " [1300.   -5.]]\n",
            "[[ -44.   12.]\n",
            " [  12.   51.]\n",
            " [1300.   -5.]]\n",
            "[[ -44.   12.]\n",
            " [  12.   51.]\n",
            " [1300.   -5.]]\n",
            "0\n"
          ]
        }
      ]
    },
    {
      "cell_type": "code",
      "metadata": {
        "id": "-Xe8SQJ0H9_j"
      },
      "source": [
        ""
      ],
      "execution_count": null,
      "outputs": []
    }
  ]
}